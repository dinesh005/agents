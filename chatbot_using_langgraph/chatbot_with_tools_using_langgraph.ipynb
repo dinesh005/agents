{
 "cells": [
  {
   "cell_type": "code",
   "execution_count": 1,
   "metadata": {},
   "outputs": [
    {
     "name": "stdout",
     "output_type": "stream",
     "text": [
      "Requirement already satisfied: langgraph in /opt/miniconda3/lib/python3.13/site-packages (0.4.10)\n",
      "Requirement already satisfied: langchain-core>=0.1 in /opt/miniconda3/lib/python3.13/site-packages (from langgraph) (0.3.66)\n",
      "Requirement already satisfied: langgraph-checkpoint>=2.0.26 in /opt/miniconda3/lib/python3.13/site-packages (from langgraph) (2.1.0)\n",
      "Requirement already satisfied: langgraph-prebuilt>=0.2.0 in /opt/miniconda3/lib/python3.13/site-packages (from langgraph) (0.2.3)\n",
      "Requirement already satisfied: langgraph-sdk>=0.1.42 in /opt/miniconda3/lib/python3.13/site-packages (from langgraph) (0.1.70)\n",
      "Requirement already satisfied: pydantic>=2.7.4 in /opt/miniconda3/lib/python3.13/site-packages (from langgraph) (2.10.3)\n",
      "Requirement already satisfied: xxhash>=3.5.0 in /opt/miniconda3/lib/python3.13/site-packages (from langgraph) (3.5.0)\n",
      "\u001b[33mWARNING: langgraph 0.4.10 does not provide the extra 'aws'\u001b[0m\u001b[33m\n",
      "\u001b[0mRequirement already satisfied: langsmith>=0.3.45 in /opt/miniconda3/lib/python3.13/site-packages (from langchain-core>=0.1->langgraph) (0.4.2)\n",
      "Requirement already satisfied: tenacity!=8.4.0,<10.0.0,>=8.1.0 in /opt/miniconda3/lib/python3.13/site-packages (from langchain-core>=0.1->langgraph) (9.1.2)\n",
      "Requirement already satisfied: jsonpatch<2.0,>=1.33 in /opt/miniconda3/lib/python3.13/site-packages (from langchain-core>=0.1->langgraph) (1.33)\n",
      "Requirement already satisfied: PyYAML>=5.3 in /opt/miniconda3/lib/python3.13/site-packages (from langchain-core>=0.1->langgraph) (6.0.2)\n",
      "Requirement already satisfied: packaging<25,>=23.2 in /opt/miniconda3/lib/python3.13/site-packages (from langchain-core>=0.1->langgraph) (24.2)\n",
      "Requirement already satisfied: typing-extensions>=4.7 in /opt/miniconda3/lib/python3.13/site-packages (from langchain-core>=0.1->langgraph) (4.12.2)\n",
      "Requirement already satisfied: jsonpointer>=1.9 in /opt/miniconda3/lib/python3.13/site-packages (from jsonpatch<2.0,>=1.33->langchain-core>=0.1->langgraph) (2.1)\n",
      "Requirement already satisfied: ormsgpack>=1.10.0 in /opt/miniconda3/lib/python3.13/site-packages (from langgraph-checkpoint>=2.0.26->langgraph) (1.10.0)\n",
      "Requirement already satisfied: httpx>=0.25.2 in /opt/miniconda3/lib/python3.13/site-packages (from langgraph-sdk>=0.1.42->langgraph) (0.28.1)\n",
      "Requirement already satisfied: orjson>=3.10.1 in /opt/miniconda3/lib/python3.13/site-packages (from langgraph-sdk>=0.1.42->langgraph) (3.10.18)\n",
      "Requirement already satisfied: anyio in /opt/miniconda3/lib/python3.13/site-packages (from httpx>=0.25.2->langgraph-sdk>=0.1.42->langgraph) (4.9.0)\n",
      "Requirement already satisfied: certifi in /opt/miniconda3/lib/python3.13/site-packages (from httpx>=0.25.2->langgraph-sdk>=0.1.42->langgraph) (2025.6.15)\n",
      "Requirement already satisfied: httpcore==1.* in /opt/miniconda3/lib/python3.13/site-packages (from httpx>=0.25.2->langgraph-sdk>=0.1.42->langgraph) (1.0.9)\n",
      "Requirement already satisfied: idna in /opt/miniconda3/lib/python3.13/site-packages (from httpx>=0.25.2->langgraph-sdk>=0.1.42->langgraph) (3.7)\n",
      "Requirement already satisfied: h11>=0.16 in /opt/miniconda3/lib/python3.13/site-packages (from httpcore==1.*->httpx>=0.25.2->langgraph-sdk>=0.1.42->langgraph) (0.16.0)\n",
      "Requirement already satisfied: requests<3,>=2 in /opt/miniconda3/lib/python3.13/site-packages (from langsmith>=0.3.45->langchain-core>=0.1->langgraph) (2.32.3)\n",
      "Requirement already satisfied: requests-toolbelt<2.0.0,>=1.0.0 in /opt/miniconda3/lib/python3.13/site-packages (from langsmith>=0.3.45->langchain-core>=0.1->langgraph) (1.0.0)\n",
      "Requirement already satisfied: zstandard<0.24.0,>=0.23.0 in /opt/miniconda3/lib/python3.13/site-packages (from langsmith>=0.3.45->langchain-core>=0.1->langgraph) (0.23.0)\n",
      "Requirement already satisfied: annotated-types>=0.6.0 in /opt/miniconda3/lib/python3.13/site-packages (from pydantic>=2.7.4->langgraph) (0.6.0)\n",
      "Requirement already satisfied: pydantic-core==2.27.1 in /opt/miniconda3/lib/python3.13/site-packages (from pydantic>=2.7.4->langgraph) (2.27.1)\n",
      "Requirement already satisfied: charset-normalizer<4,>=2 in /opt/miniconda3/lib/python3.13/site-packages (from requests<3,>=2->langsmith>=0.3.45->langchain-core>=0.1->langgraph) (3.3.2)\n",
      "Requirement already satisfied: urllib3<3,>=1.21.1 in /opt/miniconda3/lib/python3.13/site-packages (from requests<3,>=2->langsmith>=0.3.45->langchain-core>=0.1->langgraph) (2.3.0)\n",
      "Requirement already satisfied: sniffio>=1.1 in /opt/miniconda3/lib/python3.13/site-packages (from anyio->httpx>=0.25.2->langgraph-sdk>=0.1.42->langgraph) (1.3.1)\n"
     ]
    }
   ],
   "source": [
    "!pip install langgraph \"langgraph[aws]\""
   ]
  },
  {
   "cell_type": "code",
   "execution_count": 2,
   "metadata": {},
   "outputs": [],
   "source": [
    "from typing import Annotated\n",
    "from typing_extensions import TypedDict\n",
    "from langgraph.graph import START, StateGraph\n",
    "from langgraph.graph.message import add_messages\n"
   ]
  },
  {
   "cell_type": "code",
   "execution_count": 3,
   "metadata": {},
   "outputs": [],
   "source": [
    "class State(TypedDict):\n",
    "    \"\"\"State for the graph.\"\"\"\n",
    "    messages: Annotated[list, add_messages]\n",
    "graph_builder = StateGraph(State)\n"
   ]
  },
  {
   "cell_type": "markdown",
   "metadata": {},
   "source": [
    "Creating a tool from scratch using langchain"
   ]
  },
  {
   "cell_type": "code",
   "execution_count": 4,
   "metadata": {},
   "outputs": [
    {
     "data": {
      "text/plain": [
       "'Hello, Dinesh!'"
      ]
     },
     "execution_count": 4,
     "metadata": {},
     "output_type": "execute_result"
    }
   ],
   "source": [
    "from langchain_core.tools import tool\n",
    "@tool\n",
    "def greet(name: str) -> str:\n",
    "    \"\"\"Greet a person with their name.\"\"\"\n",
    "    return f\"Hello, {name}!\"\n",
    "tools = [greet]\n",
    "greet.invoke(\"Dinesh\")"
   ]
  },
  {
   "cell_type": "markdown",
   "metadata": {},
   "source": [
    "Loading the model, binding the tools to the model and created a chatbot node to use the tool binded model"
   ]
  },
  {
   "cell_type": "code",
   "execution_count": 5,
   "metadata": {},
   "outputs": [
    {
     "data": {
      "text/plain": [
       "<langgraph.graph.state.StateGraph at 0x1282d1be0>"
      ]
     },
     "execution_count": 5,
     "metadata": {},
     "output_type": "execute_result"
    }
   ],
   "source": [
    "from langchain.chat_models import init_chat_model\n",
    "model = init_chat_model(\"anthropic.claude-3-5-sonnet-20240620-v1:0\", model_provider=\"bedrock_converse\")\n",
    "model_wth_tools = model.bind_tools(tools)\n",
    "def chatbot(state: State) -> State:\n",
    "    \"\"\"Chatbot function to handle messages.\"\"\"\n",
    "    # response = model.invoke(state[\"messages\"])\n",
    "    # print(response)\n",
    "    # state[\"messages\"].append(response)\n",
    "    # return state\n",
    "    return {\"messages\": [model_wth_tools.invoke(state[\"messages\"])]}\n",
    "graph_builder.add_node(\"chatbot\", chatbot)"
   ]
  },
  {
   "cell_type": "markdown",
   "metadata": {},
   "source": [
    "To enable tool execution, we need to define a function that determines whether a tool should be invoked based on the model's latest response. This function will inspect the most recent message in the conversation state. If the response includes a tool_calls field, it indicates that the LLM intends to use one or more tools. In that case, the function will proceed to invoke the appropriate tools.\n",
    "\n",
    "To make this process effective, it’s important to design the prompt in a way that guides the LLM to recognize when a tool is needed and respond accordingly—clearly indicating the intention to 'call tools'."
   ]
  },
  {
   "cell_type": "code",
   "execution_count": 6,
   "metadata": {},
   "outputs": [
    {
     "data": {
      "text/plain": [
       "<langgraph.graph.state.StateGraph at 0x1282d1be0>"
      ]
     },
     "execution_count": 6,
     "metadata": {},
     "output_type": "execute_result"
    }
   ],
   "source": [
    "import json\n",
    "from langchain_core.messages import ToolMessage\n",
    "\n",
    "class BasicToolNode:\n",
    "  def __init__(self, tools) -> None:\n",
    "    self.tools_by_name = {tool.name: tool for tool in tools}\n",
    "  def __call__(self, inputs:dict):\n",
    "    if messages := inputs.get(\"messages\", []):\n",
    "      message = messages[-1]\n",
    "    else:\n",
    "      raise ValueError(\"No messages found in inputs.\")\n",
    "    outputs = []\n",
    "    for tool_call in message.tool_calls:\n",
    "      tool_result = self.tools_by_name[tool_call[\"name\"]].invoke(tool_call[\"args\"])\n",
    "      outputs.append(\n",
    "        ToolMessage(\n",
    "          content = json.dumps(tool_result),\n",
    "          name = tool_call[\"name\"],\n",
    "          tool_call_id = tool_call[\"id\"]\n",
    "        )\n",
    "      )\n",
    "    return {\"messages\": outputs}\n",
    "tool_node = BasicToolNode(tools)\n",
    "graph_builder.add_node(\"tools\", tool_node)\n",
    "# tool_name = tool_call.name\n",
    "# tool_args = json.loads(tool_call.args)\n",
    "# if tool_name not in self.tools_by_name:\n",
    "#     raise ValueError(f\"Tool {tool_name} not found.\")\n",
    "# tool = self.tools_by_name[tool_name]\n",
    "# result = tool.invoke(**tool_args)\n",
    "# outputs.append(\n",
    "#     ToolMessage(\n",
    "#         name=tool_name,\n",
    "#         content=result,\n",
    "#         additional_kwargs={\"tool_call_id\": tool_call.id},\n",
    "#     )\n",
    "# )\n"
   ]
  },
  {
   "cell_type": "markdown",
   "metadata": {},
   "source": [
    "We’ve now created a tool and added a new node—called BasicToolNode—to handle tool execution. This node is initialized with the available tools and defines a __call__ method. The purpose of this method is to examine the latest message in the conversation state for any tool_calls information. If tool calls are present, it iterates over them, invokes the corresponding tools, collects the responses, and returns updated messages. This ensures the conversation state includes the tool responses.\n",
    "\n",
    "Up to this point, we’ve:\n",
    "\n",
    "Defined our tools\n",
    "\n",
    "Created a node responsible for calling them\n",
    "\n",
    "Added the node to the graph\n",
    "\n",
    "Now, the next step is to define a conditional edge. This edge will examine the latest message in the state. If the message indicates that tools need to be called, and valid tools are available, the graph transitions to the tool node (BasicToolNode) for execution. If not, it transitions directly to the END state.\n",
    "\n",
    "Here’s an example of how to define such a conditional edge:"
   ]
  },
  {
   "cell_type": "code",
   "execution_count": 7,
   "metadata": {},
   "outputs": [],
   "source": [
    "from langgraph.graph import END\n",
    "def route_tools(state: State):\n",
    "  if isinstance(state, list):\n",
    "    latest_ai_message = state[-1]\n",
    "  elif messages := state.get(\"messages\", []):\n",
    "    latest_ai_message = messages[-1]\n",
    "  else:\n",
    "    raise ValueError(\"No messages found in state.\")\n",
    "  if hasattr(latest_ai_message, \"tool_calls\") and len(latest_ai_message.tool_calls) > 0:\n",
    "    return \"tools\"\n",
    "  return \"END\"\n",
    "graph_builder.add_conditional_edges(\n",
    "  \"chatbot\",\n",
    "  route_tools,\n",
    "  {\n",
    "    \"tools\": \"tools\",\n",
    "    \"END\": END,\n",
    "  }\n",
    ")\n",
    "graph_builder.add_edge(\"tools\", \"chatbot\")\n",
    "graph_builder.add_edge(START, \"chatbot\")\n",
    "graph = graph_builder.compile()\n",
    "\n"
   ]
  },
  {
   "cell_type": "code",
   "execution_count": 8,
   "metadata": {},
   "outputs": [
    {
     "data": {
      "image/png": "[encoded data removed]",
      "text/plain": [
       "<IPython.core.display.Image object>"
      ]
     },
     "metadata": {},
     "output_type": "display_data"
    }
   ],
   "source": [
    "from IPython.display import Image, display\n",
    "try:\n",
    "    display(Image(graph.get_graph().draw_mermaid_png()))\n",
    "except Exception:\n",
    "    pass"
   ]
  },
  {
   "cell_type": "code",
   "execution_count": 9,
   "metadata": {},
   "outputs": [
    {
     "name": "stdout",
     "output_type": "stream",
     "text": [
      "{'chatbot': {'messages': [AIMessage(content=[{'type': 'text', 'text': \"Certainly! I'll use the greet tool to create a customized greeting for Dinesh. Here's how we'll do that:\"}, {'type': 'tool_use', 'name': 'greet', 'input': {'name': 'Dinesh'}, 'id': 'tooluse_ftHuvWmNRf-uA7PquANsBA'}], additional_kwargs={}, response_metadata={'ResponseMetadata': {'RequestId': '2922dd1e-a7a4-4f23-9a19-378cde5a92a9', 'HTTPStatusCode': 200, 'HTTPHeaders': {'date': 'Thu, 26 Jun 2025 02:52:34 GMT', 'content-type': 'application/json', 'content-length': '388', 'connection': 'keep-alive', 'x-amzn-requestid': '2922dd1e-a7a4-4f23-9a19-378cde5a92a9'}, 'RetryAttempts': 0}, 'stopReason': 'tool_use', 'metrics': {'latencyMs': [2039]}, 'model_name': 'anthropic.claude-3-5-sonnet-20240620-v1:0'}, id='run--3183a93f-b36f-4972-900f-8ee13c6a8533-0', tool_calls=[{'name': 'greet', 'args': {'name': 'Dinesh'}, 'id': 'tooluse_ftHuvWmNRf-uA7PquANsBA', 'type': 'tool_call'}], usage_metadata={'input_tokens': 378, 'output_tokens': 84, 'total_tokens': 462, 'input_token_details': {'cache_creation': 0, 'cache_read': 0}})]}} response bfore iterating values\n",
      "{'messages': [AIMessage(content=[{'type': 'text', 'text': \"Certainly! I'll use the greet tool to create a customized greeting for Dinesh. Here's how we'll do that:\"}, {'type': 'tool_use', 'name': 'greet', 'input': {'name': 'Dinesh'}, 'id': 'tooluse_ftHuvWmNRf-uA7PquANsBA'}], additional_kwargs={}, response_metadata={'ResponseMetadata': {'RequestId': '2922dd1e-a7a4-4f23-9a19-378cde5a92a9', 'HTTPStatusCode': 200, 'HTTPHeaders': {'date': 'Thu, 26 Jun 2025 02:52:34 GMT', 'content-type': 'application/json', 'content-length': '388', 'connection': 'keep-alive', 'x-amzn-requestid': '2922dd1e-a7a4-4f23-9a19-378cde5a92a9'}, 'RetryAttempts': 0}, 'stopReason': 'tool_use', 'metrics': {'latencyMs': [2039]}, 'model_name': 'anthropic.claude-3-5-sonnet-20240620-v1:0'}, id='run--3183a93f-b36f-4972-900f-8ee13c6a8533-0', tool_calls=[{'name': 'greet', 'args': {'name': 'Dinesh'}, 'id': 'tooluse_ftHuvWmNRf-uA7PquANsBA', 'type': 'tool_call'}], usage_metadata={'input_tokens': 378, 'output_tokens': 84, 'total_tokens': 462, 'input_token_details': {'cache_creation': 0, 'cache_read': 0}})]}\n",
      "Assistant : [{'type': 'text', 'text': \"Certainly! I'll use the greet tool to create a customized greeting for Dinesh. Here's how we'll do that:\"}, {'type': 'tool_use', 'name': 'greet', 'input': {'name': 'Dinesh'}, 'id': 'tooluse_ftHuvWmNRf-uA7PquANsBA'}]{'tools': {'messages': [ToolMessage(content='\"Hello, Dinesh!\"', name='greet', id='ec24830a-b175-40e8-bd6f-fdbd58fb8291', tool_call_id='tooluse_ftHuvWmNRf-uA7PquANsBA')]}} response bfore iterating values\n",
      "{'messages': [ToolMessage(content='\"Hello, Dinesh!\"', name='greet', id='ec24830a-b175-40e8-bd6f-fdbd58fb8291', tool_call_id='tooluse_ftHuvWmNRf-uA7PquANsBA')]}\n",
      "Assistant : \"Hello, Dinesh!\"{'chatbot': {'messages': [AIMessage(content='Great! The greet tool has provided a customized greeting for Dinesh. The greeting is: \"Hello, Dinesh!\"\\n\\nIs there anything else you\\'d like me to do or any other greetings you\\'d like me to create?', additional_kwargs={}, response_metadata={'ResponseMetadata': {'RequestId': '3cbf2a96-6c4d-4731-b045-17f647bb8081', 'HTTPStatusCode': 200, 'HTTPHeaders': {'date': 'Thu, 26 Jun 2025 02:52:36 GMT', 'content-type': 'application/json', 'content-length': '382', 'connection': 'keep-alive', 'x-amzn-requestid': '3cbf2a96-6c4d-4731-b045-17f647bb8081'}, 'RetryAttempts': 0}, 'stopReason': 'end_turn', 'metrics': {'latencyMs': [1702]}, 'model_name': 'anthropic.claude-3-5-sonnet-20240620-v1:0'}, id='run--8411eefb-7011-4b53-bb3e-14e3be254f33-0', usage_metadata={'input_tokens': 479, 'output_tokens': 56, 'total_tokens': 535, 'input_token_details': {'cache_creation': 0, 'cache_read': 0}})]}} response bfore iterating values\n",
      "{'messages': [AIMessage(content='Great! The greet tool has provided a customized greeting for Dinesh. The greeting is: \"Hello, Dinesh!\"\\n\\nIs there anything else you\\'d like me to do or any other greetings you\\'d like me to create?', additional_kwargs={}, response_metadata={'ResponseMetadata': {'RequestId': '3cbf2a96-6c4d-4731-b045-17f647bb8081', 'HTTPStatusCode': 200, 'HTTPHeaders': {'date': 'Thu, 26 Jun 2025 02:52:36 GMT', 'content-type': 'application/json', 'content-length': '382', 'connection': 'keep-alive', 'x-amzn-requestid': '3cbf2a96-6c4d-4731-b045-17f647bb8081'}, 'RetryAttempts': 0}, 'stopReason': 'end_turn', 'metrics': {'latencyMs': [1702]}, 'model_name': 'anthropic.claude-3-5-sonnet-20240620-v1:0'}, id='run--8411eefb-7011-4b53-bb3e-14e3be254f33-0', usage_metadata={'input_tokens': 479, 'output_tokens': 56, 'total_tokens': 535, 'input_token_details': {'cache_creation': 0, 'cache_read': 0}})]}\n",
      "Assistant : Great! The greet tool has provided a customized greeting for Dinesh. The greeting is: \"Hello, Dinesh!\"\n",
      "\n",
      "Is there anything else you'd like me to do or any other greetings you'd like me to create?"
     ]
    }
   ],
   "source": [
    "def stream_graph_responses(user_input: str):\n",
    "    \"\"\"Stream responses from the graph.\"\"\"\n",
    "    state = {\"messages\": [{\"role\": \"user\", \"content\": user_input}]}\n",
    "    for response in graph.stream(state):\n",
    "        print(response,\"response bfore iterating values\")\n",
    "        for value in response.values():\n",
    "            print(value)\n",
    "            print(\"Assistant :\", value[\"messages\"][-1].content,end=\"\")\n",
    "user_input = \"You are a customized greeting agent, so please greet Dinesh by using the greet tool.\"\n",
    "stream_graph_responses(user_input)"
   ]
  },
  {
   "cell_type": "code",
   "execution_count": null,
   "metadata": {},
   "outputs": [],
   "source": []
  }
 ],
 "metadata": {
  "kernelspec": {
   "display_name": "base",
   "language": "python",
   "name": "python3"
  },
  "language_info": {
   "codemirror_mode": {
    "name": "ipython",
    "version": 3
   },
   "file_extension": ".py",
   "mimetype": "text/x-python",
   "name": "python",
   "nbconvert_exporter": "python",
   "pygments_lexer": "ipython3",
   "version": "3.13.5"
  }
 },
 "nbformat": 4,
 "nbformat_minor": 2
}
