{
 "cells": [
  {
   "cell_type": "markdown",
   "metadata": {},
   "source": [
    "In this notebook, I will build a simple chatbot using LangGraph that can initiate conversations, integrate external tools, and retain conversation history."
   ]
  },
  {
   "cell_type": "markdown",
   "metadata": {},
   "source": [
    "Install dependencies"
   ]
  },
  {
   "cell_type": "code",
   "execution_count": 1,
   "metadata": {},
   "outputs": [
    {
     "name": "stdout",
     "output_type": "stream",
     "text": [
      "Requirement already satisfied: langgraph in /opt/miniconda3/lib/python3.13/site-packages (0.4.10)\n",
      "Requirement already satisfied: typing_extensions in /opt/miniconda3/lib/python3.13/site-packages (4.12.2)\n",
      "Requirement already satisfied: langchain-core>=0.1 in /opt/miniconda3/lib/python3.13/site-packages (from langgraph) (0.3.66)\n",
      "Requirement already satisfied: langgraph-checkpoint>=2.0.26 in /opt/miniconda3/lib/python3.13/site-packages (from langgraph) (2.1.0)\n",
      "Requirement already satisfied: langgraph-prebuilt>=0.2.0 in /opt/miniconda3/lib/python3.13/site-packages (from langgraph) (0.2.3)\n",
      "Requirement already satisfied: langgraph-sdk>=0.1.42 in /opt/miniconda3/lib/python3.13/site-packages (from langgraph) (0.1.70)\n",
      "Requirement already satisfied: pydantic>=2.7.4 in /opt/miniconda3/lib/python3.13/site-packages (from langgraph) (2.10.3)\n",
      "Requirement already satisfied: xxhash>=3.5.0 in /opt/miniconda3/lib/python3.13/site-packages (from langgraph) (3.5.0)\n",
      "Requirement already satisfied: langsmith>=0.3.45 in /opt/miniconda3/lib/python3.13/site-packages (from langchain-core>=0.1->langgraph) (0.4.2)\n",
      "Requirement already satisfied: tenacity!=8.4.0,<10.0.0,>=8.1.0 in /opt/miniconda3/lib/python3.13/site-packages (from langchain-core>=0.1->langgraph) (9.1.2)\n",
      "Requirement already satisfied: jsonpatch<2.0,>=1.33 in /opt/miniconda3/lib/python3.13/site-packages (from langchain-core>=0.1->langgraph) (1.33)\n",
      "Requirement already satisfied: PyYAML>=5.3 in /opt/miniconda3/lib/python3.13/site-packages (from langchain-core>=0.1->langgraph) (6.0.2)\n",
      "Requirement already satisfied: packaging<25,>=23.2 in /opt/miniconda3/lib/python3.13/site-packages (from langchain-core>=0.1->langgraph) (24.2)\n",
      "Requirement already satisfied: jsonpointer>=1.9 in /opt/miniconda3/lib/python3.13/site-packages (from jsonpatch<2.0,>=1.33->langchain-core>=0.1->langgraph) (2.1)\n",
      "Requirement already satisfied: ormsgpack>=1.10.0 in /opt/miniconda3/lib/python3.13/site-packages (from langgraph-checkpoint>=2.0.26->langgraph) (1.10.0)\n",
      "Requirement already satisfied: httpx>=0.25.2 in /opt/miniconda3/lib/python3.13/site-packages (from langgraph-sdk>=0.1.42->langgraph) (0.28.1)\n",
      "Requirement already satisfied: orjson>=3.10.1 in /opt/miniconda3/lib/python3.13/site-packages (from langgraph-sdk>=0.1.42->langgraph) (3.10.18)\n",
      "Requirement already satisfied: anyio in /opt/miniconda3/lib/python3.13/site-packages (from httpx>=0.25.2->langgraph-sdk>=0.1.42->langgraph) (4.9.0)\n",
      "Requirement already satisfied: certifi in /opt/miniconda3/lib/python3.13/site-packages (from httpx>=0.25.2->langgraph-sdk>=0.1.42->langgraph) (2025.6.15)\n",
      "Requirement already satisfied: httpcore==1.* in /opt/miniconda3/lib/python3.13/site-packages (from httpx>=0.25.2->langgraph-sdk>=0.1.42->langgraph) (1.0.9)\n",
      "Requirement already satisfied: idna in /opt/miniconda3/lib/python3.13/site-packages (from httpx>=0.25.2->langgraph-sdk>=0.1.42->langgraph) (3.7)\n",
      "Requirement already satisfied: h11>=0.16 in /opt/miniconda3/lib/python3.13/site-packages (from httpcore==1.*->httpx>=0.25.2->langgraph-sdk>=0.1.42->langgraph) (0.16.0)\n",
      "Requirement already satisfied: requests<3,>=2 in /opt/miniconda3/lib/python3.13/site-packages (from langsmith>=0.3.45->langchain-core>=0.1->langgraph) (2.32.3)\n",
      "Requirement already satisfied: requests-toolbelt<2.0.0,>=1.0.0 in /opt/miniconda3/lib/python3.13/site-packages (from langsmith>=0.3.45->langchain-core>=0.1->langgraph) (1.0.0)\n",
      "Requirement already satisfied: zstandard<0.24.0,>=0.23.0 in /opt/miniconda3/lib/python3.13/site-packages (from langsmith>=0.3.45->langchain-core>=0.1->langgraph) (0.23.0)\n",
      "Requirement already satisfied: annotated-types>=0.6.0 in /opt/miniconda3/lib/python3.13/site-packages (from pydantic>=2.7.4->langgraph) (0.6.0)\n",
      "Requirement already satisfied: pydantic-core==2.27.1 in /opt/miniconda3/lib/python3.13/site-packages (from pydantic>=2.7.4->langgraph) (2.27.1)\n",
      "Requirement already satisfied: charset-normalizer<4,>=2 in /opt/miniconda3/lib/python3.13/site-packages (from requests<3,>=2->langsmith>=0.3.45->langchain-core>=0.1->langgraph) (3.3.2)\n",
      "Requirement already satisfied: urllib3<3,>=1.21.1 in /opt/miniconda3/lib/python3.13/site-packages (from requests<3,>=2->langsmith>=0.3.45->langchain-core>=0.1->langgraph) (2.3.0)\n",
      "Requirement already satisfied: sniffio>=1.1 in /opt/miniconda3/lib/python3.13/site-packages (from anyio->httpx>=0.25.2->langgraph-sdk>=0.1.42->langgraph) (1.3.1)\n"
     ]
    }
   ],
   "source": [
    "!pip3 install langgraph typing_extensions"
   ]
  },
  {
   "cell_type": "markdown",
   "metadata": {},
   "source": [
    "To get started with building the chatbot, the first thing we need to do is initialize a state graph. A state graph is a core concept in LangGraph that models the flow of a conversation as a state machine — a system where different 'states' represent different stages in a process.\n",
    "\n",
    "In our case, each state is defined by a node. A node can be anything from a simple Python function, a call to a language model (LLM), or an integration with an external tool (like a calculator or a web search API). These nodes define the individual operations or logic that the chatbot performs.\n",
    "\n",
    "Once we define the nodes, we connect them using edges, which specify how the conversation should transition from one node to another based on the current input or output. This structure allows us to build flexible, dynamic workflows where the chatbot can respond intelligently, call tools when needed, and maintain memory across interactions."
   ]
  },
  {
   "cell_type": "code",
   "execution_count": 2,
   "metadata": {},
   "outputs": [],
   "source": [
    "from typing import Annotated\n",
    "from typing_extensions import TypedDict\n",
    "from langgraph.graph import START, StateGraph\n",
    "from langgraph.graph.message import add_messages"
   ]
  },
  {
   "cell_type": "markdown",
   "metadata": {},
   "source": [
    "Creating a graph using stategraph"
   ]
  },
  {
   "cell_type": "code",
   "execution_count": 3,
   "metadata": {},
   "outputs": [],
   "source": [
    "class State(TypedDict):\n",
    "    \"\"\"State for the graph.\"\"\"\n",
    "    messages: Annotated[list, add_messages]\n",
    "graph_builder = StateGraph(State)\n"
   ]
  },
  {
   "cell_type": "markdown",
   "metadata": {},
   "source": [
    "Install langchain aws so that we can connect all the models hosted in AWS bedrock"
   ]
  },
  {
   "cell_type": "code",
   "execution_count": 4,
   "metadata": {},
   "outputs": [
    {
     "name": "stdout",
     "output_type": "stream",
     "text": [
      "Requirement already satisfied: langchain[aws] in /opt/miniconda3/lib/python3.13/site-packages (0.3.26)\n",
      "Requirement already satisfied: langchain-core<1.0.0,>=0.3.66 in /opt/miniconda3/lib/python3.13/site-packages (from langchain[aws]) (0.3.66)\n",
      "Requirement already satisfied: langchain-text-splitters<1.0.0,>=0.3.8 in /opt/miniconda3/lib/python3.13/site-packages (from langchain[aws]) (0.3.8)\n",
      "Requirement already satisfied: langsmith>=0.1.17 in /opt/miniconda3/lib/python3.13/site-packages (from langchain[aws]) (0.4.2)\n",
      "Requirement already satisfied: pydantic<3.0.0,>=2.7.4 in /opt/miniconda3/lib/python3.13/site-packages (from langchain[aws]) (2.10.3)\n",
      "Requirement already satisfied: SQLAlchemy<3,>=1.4 in /opt/miniconda3/lib/python3.13/site-packages (from langchain[aws]) (2.0.41)\n",
      "Requirement already satisfied: requests<3,>=2 in /opt/miniconda3/lib/python3.13/site-packages (from langchain[aws]) (2.32.3)\n",
      "Requirement already satisfied: PyYAML>=5.3 in /opt/miniconda3/lib/python3.13/site-packages (from langchain[aws]) (6.0.2)\n",
      "Requirement already satisfied: langchain-aws in /opt/miniconda3/lib/python3.13/site-packages (from langchain[aws]) (0.2.27)\n",
      "Requirement already satisfied: tenacity!=8.4.0,<10.0.0,>=8.1.0 in /opt/miniconda3/lib/python3.13/site-packages (from langchain-core<1.0.0,>=0.3.66->langchain[aws]) (9.1.2)\n",
      "Requirement already satisfied: jsonpatch<2.0,>=1.33 in /opt/miniconda3/lib/python3.13/site-packages (from langchain-core<1.0.0,>=0.3.66->langchain[aws]) (1.33)\n",
      "Requirement already satisfied: packaging<25,>=23.2 in /opt/miniconda3/lib/python3.13/site-packages (from langchain-core<1.0.0,>=0.3.66->langchain[aws]) (24.2)\n",
      "Requirement already satisfied: typing-extensions>=4.7 in /opt/miniconda3/lib/python3.13/site-packages (from langchain-core<1.0.0,>=0.3.66->langchain[aws]) (4.12.2)\n",
      "Requirement already satisfied: jsonpointer>=1.9 in /opt/miniconda3/lib/python3.13/site-packages (from jsonpatch<2.0,>=1.33->langchain-core<1.0.0,>=0.3.66->langchain[aws]) (2.1)\n",
      "Requirement already satisfied: annotated-types>=0.6.0 in /opt/miniconda3/lib/python3.13/site-packages (from pydantic<3.0.0,>=2.7.4->langchain[aws]) (0.6.0)\n",
      "Requirement already satisfied: pydantic-core==2.27.1 in /opt/miniconda3/lib/python3.13/site-packages (from pydantic<3.0.0,>=2.7.4->langchain[aws]) (2.27.1)\n",
      "Requirement already satisfied: charset-normalizer<4,>=2 in /opt/miniconda3/lib/python3.13/site-packages (from requests<3,>=2->langchain[aws]) (3.3.2)\n",
      "Requirement already satisfied: idna<4,>=2.5 in /opt/miniconda3/lib/python3.13/site-packages (from requests<3,>=2->langchain[aws]) (3.7)\n",
      "Requirement already satisfied: urllib3<3,>=1.21.1 in /opt/miniconda3/lib/python3.13/site-packages (from requests<3,>=2->langchain[aws]) (2.3.0)\n",
      "Requirement already satisfied: certifi>=2017.4.17 in /opt/miniconda3/lib/python3.13/site-packages (from requests<3,>=2->langchain[aws]) (2025.6.15)\n",
      "Requirement already satisfied: httpx<1,>=0.23.0 in /opt/miniconda3/lib/python3.13/site-packages (from langsmith>=0.1.17->langchain[aws]) (0.28.1)\n",
      "Requirement already satisfied: orjson<4.0.0,>=3.9.14 in /opt/miniconda3/lib/python3.13/site-packages (from langsmith>=0.1.17->langchain[aws]) (3.10.18)\n",
      "Requirement already satisfied: requests-toolbelt<2.0.0,>=1.0.0 in /opt/miniconda3/lib/python3.13/site-packages (from langsmith>=0.1.17->langchain[aws]) (1.0.0)\n",
      "Requirement already satisfied: zstandard<0.24.0,>=0.23.0 in /opt/miniconda3/lib/python3.13/site-packages (from langsmith>=0.1.17->langchain[aws]) (0.23.0)\n",
      "Requirement already satisfied: anyio in /opt/miniconda3/lib/python3.13/site-packages (from httpx<1,>=0.23.0->langsmith>=0.1.17->langchain[aws]) (4.9.0)\n",
      "Requirement already satisfied: httpcore==1.* in /opt/miniconda3/lib/python3.13/site-packages (from httpx<1,>=0.23.0->langsmith>=0.1.17->langchain[aws]) (1.0.9)\n",
      "Requirement already satisfied: h11>=0.16 in /opt/miniconda3/lib/python3.13/site-packages (from httpcore==1.*->httpx<1,>=0.23.0->langsmith>=0.1.17->langchain[aws]) (0.16.0)\n",
      "Requirement already satisfied: sniffio>=1.1 in /opt/miniconda3/lib/python3.13/site-packages (from anyio->httpx<1,>=0.23.0->langsmith>=0.1.17->langchain[aws]) (1.3.1)\n",
      "Requirement already satisfied: boto3>=1.37.24 in /opt/miniconda3/lib/python3.13/site-packages (from langchain-aws->langchain[aws]) (1.38.44)\n",
      "Requirement already satisfied: numpy<3,>=1.26.0 in /opt/miniconda3/lib/python3.13/site-packages (from langchain-aws->langchain[aws]) (2.3.1)\n",
      "Requirement already satisfied: botocore<1.39.0,>=1.38.44 in /opt/miniconda3/lib/python3.13/site-packages (from boto3>=1.37.24->langchain-aws->langchain[aws]) (1.38.44)\n",
      "Requirement already satisfied: jmespath<2.0.0,>=0.7.1 in /opt/miniconda3/lib/python3.13/site-packages (from boto3>=1.37.24->langchain-aws->langchain[aws]) (1.0.1)\n",
      "Requirement already satisfied: s3transfer<0.14.0,>=0.13.0 in /opt/miniconda3/lib/python3.13/site-packages (from boto3>=1.37.24->langchain-aws->langchain[aws]) (0.13.0)\n",
      "Requirement already satisfied: python-dateutil<3.0.0,>=2.1 in /opt/miniconda3/lib/python3.13/site-packages (from botocore<1.39.0,>=1.38.44->boto3>=1.37.24->langchain-aws->langchain[aws]) (2.9.0.post0)\n",
      "Requirement already satisfied: six>=1.5 in /opt/miniconda3/lib/python3.13/site-packages (from python-dateutil<3.0.0,>=2.1->botocore<1.39.0,>=1.38.44->boto3>=1.37.24->langchain-aws->langchain[aws]) (1.17.0)\n",
      "Note: you may need to restart the kernel to use updated packages.\n"
     ]
    }
   ],
   "source": [
    "pip install -U \"langchain[aws]\""
   ]
  },
  {
   "cell_type": "markdown",
   "metadata": {},
   "source": [
    "The previous step initialized a new graph builder. Now, we can begin creating nodes and connecting them with edges, allowing the chatbot to transition between different stages or functions.\n",
    "\n",
    "To define a new node, we create a Python function that accepts the current state as input. This state includes the latest data from the conversation. The function performs its specific task—such as generating a response or calling a tool—and then returns an updated state.\n",
    "\n",
    "Within the function, you'll write the logic needed to handle that part of the conversation. Once the task is completed, the state is modified to include any new messages or data, which can then be used by the next node in the graph."
   ]
  },
  {
   "cell_type": "code",
   "execution_count": 5,
   "metadata": {},
   "outputs": [
    {
     "data": {
      "text/plain": [
       "<langgraph.graph.state.StateGraph at 0x10b145be0>"
      ]
     },
     "execution_count": 5,
     "metadata": {},
     "output_type": "execute_result"
    }
   ],
   "source": [
    "from langchain.chat_models import init_chat_model\n",
    "model = init_chat_model(\"anthropic.claude-3-5-sonnet-20240620-v1:0\", model_provider=\"bedrock_converse\")\n",
    "def chatbot(state: State) -> State:\n",
    "    \"\"\"Chatbot function to handle messages.\"\"\"\n",
    "    # response = model.invoke(state[\"messages\"])\n",
    "    # print(response)\n",
    "    # state[\"messages\"].append(response)\n",
    "    # return state\n",
    "    return {\"messages\": [model.invoke(state[\"messages\"])]}\n",
    "graph_builder.add_node(\"chatbot\", chatbot)\n"
   ]
  },
  {
   "cell_type": "markdown",
   "metadata": {},
   "source": [
    "After defining a node, the next step is to add edges to connect it within the graph. These edges determine the path the bot will follow, enabling it to execute each function by visiting all relevant nodes.\n",
    "\n",
    "LangGraph provides a default START state, so it's essential to link this start state to the first node that should be executed in the flow.\n",
    "\n",
    "Once all nodes have been defined and properly connected with edges, we compile the graph builder. This generates a graph object, which acts as the final executable workflow and can be used to run or query the chatbot."
   ]
  },
  {
   "cell_type": "code",
   "execution_count": 6,
   "metadata": {},
   "outputs": [],
   "source": [
    "graph_builder.add_edge(START, \"chatbot\")\n",
    "graph = graph_builder.compile()"
   ]
  },
  {
   "cell_type": "code",
   "execution_count": 7,
   "metadata": {},
   "outputs": [
    {
     "data": {
      "image/png": "[encoded data removed]",
      "text/plain": [
       "<IPython.core.display.Image object>"
      ]
     },
     "metadata": {},
     "output_type": "display_data"
    }
   ],
   "source": [
    "from IPython.display import Image, display\n",
    "\n",
    "try:\n",
    "    display(Image(graph.get_graph().draw_mermaid_png()))\n",
    "except Exception:\n",
    "    # This requires some extra dependencies and is optional\n",
    "    pass"
   ]
  },
  {
   "cell_type": "markdown",
   "metadata": {},
   "source": [
    "At this point, the graph has been fully constructed with all the necessary nodes and edges, meaning our agent is ready to run. We can now start interacting with it by sending in questions or messages."
   ]
  },
  {
   "cell_type": "code",
   "execution_count": 8,
   "metadata": {},
   "outputs": [],
   "source": [
    "def stream_graph_responses(user_input: str):\n",
    "    \"\"\"Stream responses from the graph.\"\"\"\n",
    "    state = {\"messages\": [{\"role\": \"user\", \"content\": user_input}]}\n",
    "    for response in graph.stream(state):\n",
    "        print(response,\"response bfore iterating values\")\n",
    "        for value in response.values():\n",
    "            print(value)\n",
    "            print(\"Assistant :\", value[\"messages\"][-1].content,end=\"\")"
   ]
  },
  {
   "cell_type": "code",
   "execution_count": 9,
   "metadata": {},
   "outputs": [
    {
     "name": "stdout",
     "output_type": "stream",
     "text": [
      "{'chatbot': {'messages': [AIMessage(content='Iconic 984-foot iron lattice tower in Paris, built in 1889, symbolizing French engineering and culture.', additional_kwargs={}, response_metadata={'ResponseMetadata': {'RequestId': '3ebe6353-72ea-4dab-85aa-f278d7755402', 'HTTPStatusCode': 200, 'HTTPHeaders': {'date': 'Thu, 26 Jun 2025 02:45:24 GMT', 'content-type': 'application/json', 'content-length': '284', 'connection': 'keep-alive', 'x-amzn-requestid': '3ebe6353-72ea-4dab-85aa-f278d7755402'}, 'RetryAttempts': 0}, 'stopReason': 'end_turn', 'metrics': {'latencyMs': [993]}, 'model_name': 'anthropic.claude-3-5-sonnet-20240620-v1:0'}, id='run--15e25a21-6d08-4c30-9056-21889ca114d2-0', usage_metadata={'input_tokens': 23, 'output_tokens': 29, 'total_tokens': 52, 'input_token_details': {'cache_creation': 0, 'cache_read': 0}})]}} response bfore iterating values\n",
      "{'messages': [AIMessage(content='Iconic 984-foot iron lattice tower in Paris, built in 1889, symbolizing French engineering and culture.', additional_kwargs={}, response_metadata={'ResponseMetadata': {'RequestId': '3ebe6353-72ea-4dab-85aa-f278d7755402', 'HTTPStatusCode': 200, 'HTTPHeaders': {'date': 'Thu, 26 Jun 2025 02:45:24 GMT', 'content-type': 'application/json', 'content-length': '284', 'connection': 'keep-alive', 'x-amzn-requestid': '3ebe6353-72ea-4dab-85aa-f278d7755402'}, 'RetryAttempts': 0}, 'stopReason': 'end_turn', 'metrics': {'latencyMs': [993]}, 'model_name': 'anthropic.claude-3-5-sonnet-20240620-v1:0'}, id='run--15e25a21-6d08-4c30-9056-21889ca114d2-0', usage_metadata={'input_tokens': 23, 'output_tokens': 29, 'total_tokens': 52, 'input_token_details': {'cache_creation': 0, 'cache_read': 0}})]}\n",
      "Assistant : Iconic 984-foot iron lattice tower in Paris, built in 1889, symbolizing French engineering and culture."
     ]
    }
   ],
   "source": [
    "user_input = \"Give me a short description of the Eiffel Tower in one line.\"    \n",
    "stream_graph_responses(user_input)\n"
   ]
  },
  {
   "cell_type": "markdown",
   "metadata": {},
   "source": [
    "At this stage, we have a working chatbot that can receive queries from a user and pass them to a basic language model for generating responses. While this setup mirrors a standard LLM-based assistant, the key advantage of our chatbot lies in its extensibility. Unlike a basic model interaction, this chatbot can invoke multiple models or tools, making it far more powerful and adaptable.\n",
    "\n",
    "We can integrate external tools to expand its capabilities—such as performing web or Google searches, accessing internal company systems like communication platforms, databases, or application logs, and executing any custom logic we implement. This transforms the chatbot from a simple Q&A interface into a smart agent capable of real operational tasks.\n",
    "\n",
    "For example, imagine a scenario where a user inputs: 'Robin, one of our long-time customers with SSN ###-##-####, is planning to apply for another loan. What offers can we provide?'\n",
    "\n",
    "In this case, the chatbot can extract the customer's SSN using a language model, then use a pre-built tool to call an internal API with that SSN to retrieve personalized offers. The chatbot automatically performs this sequence—understanding the query, extracting the required data, calling the tool, and returning a meaningful response.\n",
    "\n",
    "Now that we’ve built the foundation, let’s shift focus to integrating external tools into our chatbot workflow."
   ]
  },
  {
   "cell_type": "code",
   "execution_count": null,
   "metadata": {},
   "outputs": [],
   "source": []
  }
 ],
 "metadata": {
  "kernelspec": {
   "display_name": "Python 3",
   "language": "python",
   "name": "python3"
  },
  "language_info": {
   "codemirror_mode": {
    "name": "ipython",
    "version": 3
   },
   "file_extension": ".py",
   "mimetype": "text/x-python",
   "name": "python",
   "nbconvert_exporter": "python",
   "pygments_lexer": "ipython3",
   "version": "3.13.5"
  }
 },
 "nbformat": 4,
 "nbformat_minor": 2
}
