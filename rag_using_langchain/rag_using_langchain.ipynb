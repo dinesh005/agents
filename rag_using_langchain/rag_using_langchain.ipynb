{
 "cells": [
  {
   "cell_type": "markdown",
   "metadata": {},
   "source": [
    "---\n",
    "\n",
    "### **Retrieve and Generate (RAG)**\n",
    "\n",
    "Until now, we’ve been querying LLMs hosted on AWS Bedrock purely based on the model’s pretraining, which relies on large-scale internet data. While powerful, these models are not well-suited for answering questions about internal or domain-specific resources. In such cases, they often produce inaccurate or \"hallucinated\" responses, as they generate answers based solely on statistical probability rather than grounded knowledge.\n",
    "\n",
    "To address this limitation, we use a technique called **Retrieval-Augmented Generation (RAG)**.\n",
    "\n",
    "---\n",
    "\n",
    "### **What is RAG?**\n",
    "\n",
    "RAG enhances LLM performance by augmenting model inputs with relevant data retrieved from a custom knowledge base. Here's how it works:\n",
    "\n",
    "1. **Data Preparation**: Internal documents or resources are parsed and converted into **embedding vectors**, which are then stored in a **vector database**.\n",
    "2. **Query Handling**: When a user asks a question, the query is also converted into an embedding. A similarity search (commonly cosine similarity) is performed against the stored vectors to find the most relevant content.\n",
    "3. **Response Generation**: The matched content is then transformed back into text and included in the prompt sent to the LLM. This gives the model context-specific knowledge to generate accurate, grounded responses.\n",
    "\n",
    "Thanks to RAG, the model can now respond based on both its pre-trained knowledge and your internal data.\n",
    "\n",
    "---\n",
    "\n",
    "### **Two Key Phases of RAG**\n",
    "\n",
    "1. **Indexing** *(Offline Process)*\n",
    "\n",
    "   * Parse internal documents\n",
    "   * Generate embeddings\n",
    "   * Store embeddings in a vector store\n",
    "\n",
    "2. **Retrieval and Generation** *(Runtime)*\n",
    "\n",
    "   * Convert user query into an embedding\n",
    "   * Find the closest matches in the vector store\n",
    "   * Retrieve and format the matched content\n",
    "   * Combine it with the user’s query and send it to the LLM\n",
    "\n",
    "---\n",
    "\n",
    "We’ll explore the implementation of RAG in more detail in the next sections."
   ]
  },
  {
   "cell_type": "code",
   "execution_count": 1,
   "metadata": {},
   "outputs": [
    {
     "name": "stdout",
     "output_type": "stream",
     "text": [
      "Requirement already satisfied: langchain-text-splitters in /opt/miniconda3/lib/python3.13/site-packages (0.3.8)\n",
      "Collecting langchain-community\n",
      "  Downloading langchain_community-0.3.26-py3-none-any.whl.metadata (2.9 kB)\n",
      "Requirement already satisfied: langgraph in /opt/miniconda3/lib/python3.13/site-packages (0.4.10)\n",
      "Requirement already satisfied: langchain-core<1.0.0,>=0.3.51 in /opt/miniconda3/lib/python3.13/site-packages (from langchain-text-splitters) (0.3.66)\n",
      "Requirement already satisfied: langsmith>=0.3.45 in /opt/miniconda3/lib/python3.13/site-packages (from langchain-core<1.0.0,>=0.3.51->langchain-text-splitters) (0.4.2)\n",
      "Requirement already satisfied: tenacity!=8.4.0,<10.0.0,>=8.1.0 in /opt/miniconda3/lib/python3.13/site-packages (from langchain-core<1.0.0,>=0.3.51->langchain-text-splitters) (9.1.2)\n",
      "Requirement already satisfied: jsonpatch<2.0,>=1.33 in /opt/miniconda3/lib/python3.13/site-packages (from langchain-core<1.0.0,>=0.3.51->langchain-text-splitters) (1.33)\n",
      "Requirement already satisfied: PyYAML>=5.3 in /opt/miniconda3/lib/python3.13/site-packages (from langchain-core<1.0.0,>=0.3.51->langchain-text-splitters) (6.0.2)\n",
      "Requirement already satisfied: packaging<25,>=23.2 in /opt/miniconda3/lib/python3.13/site-packages (from langchain-core<1.0.0,>=0.3.51->langchain-text-splitters) (24.2)\n",
      "Requirement already satisfied: typing-extensions>=4.7 in /opt/miniconda3/lib/python3.13/site-packages (from langchain-core<1.0.0,>=0.3.51->langchain-text-splitters) (4.12.2)\n",
      "Requirement already satisfied: pydantic>=2.7.4 in /opt/miniconda3/lib/python3.13/site-packages (from langchain-core<1.0.0,>=0.3.51->langchain-text-splitters) (2.10.3)\n",
      "Requirement already satisfied: jsonpointer>=1.9 in /opt/miniconda3/lib/python3.13/site-packages (from jsonpatch<2.0,>=1.33->langchain-core<1.0.0,>=0.3.51->langchain-text-splitters) (2.1)\n",
      "Requirement already satisfied: langchain<1.0.0,>=0.3.26 in /opt/miniconda3/lib/python3.13/site-packages (from langchain-community) (0.3.26)\n",
      "Requirement already satisfied: SQLAlchemy<3,>=1.4 in /opt/miniconda3/lib/python3.13/site-packages (from langchain-community) (2.0.41)\n",
      "Requirement already satisfied: requests<3,>=2 in /opt/miniconda3/lib/python3.13/site-packages (from langchain-community) (2.32.3)\n",
      "Collecting aiohttp<4.0.0,>=3.8.3 (from langchain-community)\n",
      "  Downloading aiohttp-3.12.13-cp313-cp313-macosx_11_0_arm64.whl.metadata (7.6 kB)\n",
      "Collecting dataclasses-json<0.7,>=0.5.7 (from langchain-community)\n",
      "  Downloading dataclasses_json-0.6.7-py3-none-any.whl.metadata (25 kB)\n",
      "Collecting pydantic-settings<3.0.0,>=2.4.0 (from langchain-community)\n",
      "  Downloading pydantic_settings-2.10.1-py3-none-any.whl.metadata (3.4 kB)\n",
      "Collecting httpx-sse<1.0.0,>=0.4.0 (from langchain-community)\n",
      "  Downloading httpx_sse-0.4.1-py3-none-any.whl.metadata (9.4 kB)\n",
      "Requirement already satisfied: numpy>=2.1.0 in /opt/miniconda3/lib/python3.13/site-packages (from langchain-community) (2.3.1)\n",
      "Collecting aiohappyeyeballs>=2.5.0 (from aiohttp<4.0.0,>=3.8.3->langchain-community)\n",
      "  Downloading aiohappyeyeballs-2.6.1-py3-none-any.whl.metadata (5.9 kB)\n",
      "Collecting aiosignal>=1.1.2 (from aiohttp<4.0.0,>=3.8.3->langchain-community)\n",
      "  Downloading aiosignal-1.3.2-py2.py3-none-any.whl.metadata (3.8 kB)\n",
      "Collecting attrs>=17.3.0 (from aiohttp<4.0.0,>=3.8.3->langchain-community)\n",
      "  Downloading attrs-25.3.0-py3-none-any.whl.metadata (10 kB)\n",
      "Collecting frozenlist>=1.1.1 (from aiohttp<4.0.0,>=3.8.3->langchain-community)\n",
      "  Downloading frozenlist-1.7.0-cp313-cp313-macosx_11_0_arm64.whl.metadata (18 kB)\n",
      "Collecting multidict<7.0,>=4.5 (from aiohttp<4.0.0,>=3.8.3->langchain-community)\n",
      "  Downloading multidict-6.5.1-cp313-cp313-macosx_11_0_arm64.whl.metadata (5.3 kB)\n",
      "Collecting propcache>=0.2.0 (from aiohttp<4.0.0,>=3.8.3->langchain-community)\n",
      "  Downloading propcache-0.3.2-cp313-cp313-macosx_11_0_arm64.whl.metadata (12 kB)\n",
      "Collecting yarl<2.0,>=1.17.0 (from aiohttp<4.0.0,>=3.8.3->langchain-community)\n",
      "  Downloading yarl-1.20.1-cp313-cp313-macosx_11_0_arm64.whl.metadata (73 kB)\n",
      "Collecting marshmallow<4.0.0,>=3.18.0 (from dataclasses-json<0.7,>=0.5.7->langchain-community)\n",
      "  Downloading marshmallow-3.26.1-py3-none-any.whl.metadata (7.3 kB)\n",
      "Collecting typing-inspect<1,>=0.4.0 (from dataclasses-json<0.7,>=0.5.7->langchain-community)\n",
      "  Downloading typing_inspect-0.9.0-py3-none-any.whl.metadata (1.5 kB)\n",
      "Requirement already satisfied: annotated-types>=0.6.0 in /opt/miniconda3/lib/python3.13/site-packages (from pydantic>=2.7.4->langchain-core<1.0.0,>=0.3.51->langchain-text-splitters) (0.6.0)\n",
      "Requirement already satisfied: pydantic-core==2.27.1 in /opt/miniconda3/lib/python3.13/site-packages (from pydantic>=2.7.4->langchain-core<1.0.0,>=0.3.51->langchain-text-splitters) (2.27.1)\n",
      "Collecting python-dotenv>=0.21.0 (from pydantic-settings<3.0.0,>=2.4.0->langchain-community)\n",
      "  Downloading python_dotenv-1.1.1-py3-none-any.whl.metadata (24 kB)\n",
      "Collecting typing-inspection>=0.4.0 (from pydantic-settings<3.0.0,>=2.4.0->langchain-community)\n",
      "  Downloading typing_inspection-0.4.1-py3-none-any.whl.metadata (2.6 kB)\n",
      "Requirement already satisfied: charset-normalizer<4,>=2 in /opt/miniconda3/lib/python3.13/site-packages (from requests<3,>=2->langchain-community) (3.3.2)\n",
      "Requirement already satisfied: idna<4,>=2.5 in /opt/miniconda3/lib/python3.13/site-packages (from requests<3,>=2->langchain-community) (3.7)\n",
      "Requirement already satisfied: urllib3<3,>=1.21.1 in /opt/miniconda3/lib/python3.13/site-packages (from requests<3,>=2->langchain-community) (2.3.0)\n",
      "Requirement already satisfied: certifi>=2017.4.17 in /opt/miniconda3/lib/python3.13/site-packages (from requests<3,>=2->langchain-community) (2025.6.15)\n",
      "Collecting mypy-extensions>=0.3.0 (from typing-inspect<1,>=0.4.0->dataclasses-json<0.7,>=0.5.7->langchain-community)\n",
      "  Downloading mypy_extensions-1.1.0-py3-none-any.whl.metadata (1.1 kB)\n",
      "Requirement already satisfied: langgraph-checkpoint>=2.0.26 in /opt/miniconda3/lib/python3.13/site-packages (from langgraph) (2.1.0)\n",
      "Requirement already satisfied: langgraph-prebuilt>=0.2.0 in /opt/miniconda3/lib/python3.13/site-packages (from langgraph) (0.2.3)\n",
      "Requirement already satisfied: langgraph-sdk>=0.1.42 in /opt/miniconda3/lib/python3.13/site-packages (from langgraph) (0.1.70)\n",
      "Requirement already satisfied: xxhash>=3.5.0 in /opt/miniconda3/lib/python3.13/site-packages (from langgraph) (3.5.0)\n",
      "Requirement already satisfied: ormsgpack>=1.10.0 in /opt/miniconda3/lib/python3.13/site-packages (from langgraph-checkpoint>=2.0.26->langgraph) (1.10.0)\n",
      "Requirement already satisfied: httpx>=0.25.2 in /opt/miniconda3/lib/python3.13/site-packages (from langgraph-sdk>=0.1.42->langgraph) (0.28.1)\n",
      "Requirement already satisfied: orjson>=3.10.1 in /opt/miniconda3/lib/python3.13/site-packages (from langgraph-sdk>=0.1.42->langgraph) (3.10.18)\n",
      "Requirement already satisfied: anyio in /opt/miniconda3/lib/python3.13/site-packages (from httpx>=0.25.2->langgraph-sdk>=0.1.42->langgraph) (4.9.0)\n",
      "Requirement already satisfied: httpcore==1.* in /opt/miniconda3/lib/python3.13/site-packages (from httpx>=0.25.2->langgraph-sdk>=0.1.42->langgraph) (1.0.9)\n",
      "Requirement already satisfied: h11>=0.16 in /opt/miniconda3/lib/python3.13/site-packages (from httpcore==1.*->httpx>=0.25.2->langgraph-sdk>=0.1.42->langgraph) (0.16.0)\n",
      "Requirement already satisfied: requests-toolbelt<2.0.0,>=1.0.0 in /opt/miniconda3/lib/python3.13/site-packages (from langsmith>=0.3.45->langchain-core<1.0.0,>=0.3.51->langchain-text-splitters) (1.0.0)\n",
      "Requirement already satisfied: zstandard<0.24.0,>=0.23.0 in /opt/miniconda3/lib/python3.13/site-packages (from langsmith>=0.3.45->langchain-core<1.0.0,>=0.3.51->langchain-text-splitters) (0.23.0)\n",
      "Requirement already satisfied: sniffio>=1.1 in /opt/miniconda3/lib/python3.13/site-packages (from anyio->httpx>=0.25.2->langgraph-sdk>=0.1.42->langgraph) (1.3.1)\n",
      "Downloading langchain_community-0.3.26-py3-none-any.whl (2.5 MB)\n",
      "\u001b[2K   \u001b[90m━━━━━━━━━━━━━━━━━━━━━━━━━━━━━━━━━━━━━━━━\u001b[0m \u001b[32m2.5/2.5 MB\u001b[0m \u001b[31m33.4 MB/s\u001b[0m eta \u001b[36m0:00:00\u001b[0m\n",
      "\u001b[?25hDownloading aiohttp-3.12.13-cp313-cp313-macosx_11_0_arm64.whl (464 kB)\n",
      "Downloading dataclasses_json-0.6.7-py3-none-any.whl (28 kB)\n",
      "Downloading httpx_sse-0.4.1-py3-none-any.whl (8.1 kB)\n",
      "Downloading marshmallow-3.26.1-py3-none-any.whl (50 kB)\n",
      "Downloading multidict-6.5.1-cp313-cp313-macosx_11_0_arm64.whl (42 kB)\n",
      "Downloading pydantic_settings-2.10.1-py3-none-any.whl (45 kB)\n",
      "Downloading typing_inspect-0.9.0-py3-none-any.whl (8.8 kB)\n",
      "Downloading yarl-1.20.1-cp313-cp313-macosx_11_0_arm64.whl (88 kB)\n",
      "Downloading aiohappyeyeballs-2.6.1-py3-none-any.whl (15 kB)\n",
      "Downloading aiosignal-1.3.2-py2.py3-none-any.whl (7.6 kB)\n",
      "Downloading attrs-25.3.0-py3-none-any.whl (63 kB)\n",
      "Downloading frozenlist-1.7.0-cp313-cp313-macosx_11_0_arm64.whl (45 kB)\n",
      "Downloading mypy_extensions-1.1.0-py3-none-any.whl (5.0 kB)\n",
      "Downloading propcache-0.3.2-cp313-cp313-macosx_11_0_arm64.whl (41 kB)\n",
      "Downloading python_dotenv-1.1.1-py3-none-any.whl (20 kB)\n",
      "Downloading typing_inspection-0.4.1-py3-none-any.whl (14 kB)\n",
      "Installing collected packages: typing-inspection, python-dotenv, propcache, mypy-extensions, multidict, marshmallow, httpx-sse, frozenlist, attrs, aiohappyeyeballs, yarl, typing-inspect, aiosignal, pydantic-settings, dataclasses-json, aiohttp, langchain-community\n",
      "\u001b[2K   \u001b[90m━━━━━━━━━━━━━━━━━━━━━━━━━━━━━━━━━━━━━━━━\u001b[0m \u001b[32m17/17\u001b[0m [langchain-community]ngchain-community]\n",
      "\u001b[1A\u001b[2KSuccessfully installed aiohappyeyeballs-2.6.1 aiohttp-3.12.13 aiosignal-1.3.2 attrs-25.3.0 dataclasses-json-0.6.7 frozenlist-1.7.0 httpx-sse-0.4.1 langchain-community-0.3.26 marshmallow-3.26.1 multidict-6.5.1 mypy-extensions-1.1.0 propcache-0.3.2 pydantic-settings-2.10.1 python-dotenv-1.1.1 typing-inspect-0.9.0 typing-inspection-0.4.1 yarl-1.20.1\n"
     ]
    }
   ],
   "source": [
    "!pip install langchain-text-splitters langchain-community langgraph"
   ]
  },
  {
   "cell_type": "code",
   "execution_count": 2,
   "metadata": {},
   "outputs": [],
   "source": [
    "!pip install -qU \"langchain[aws]\""
   ]
  },
  {
   "cell_type": "code",
   "execution_count": 3,
   "metadata": {},
   "outputs": [],
   "source": [
    "from langchain.chat_models import init_chat_model\n",
    "model  = init_chat_model(\"anthropic.claude-3-5-sonnet-20240620-v1:0\", model_provider=\"bedrock_converse\")"
   ]
  },
  {
   "cell_type": "markdown",
   "metadata": {},
   "source": [
    "\n",
    "\n",
    "---\n",
    "\n",
    "### **Indexing**\n",
    "\n",
    "To begin the indexing process, we use **document loaders** to load content from various sources. LangChain provides support for multiple data types, including:\n",
    "\n",
    "* Web pages\n",
    "* PDF files\n",
    "* Plain text documents\n",
    "* and more\n",
    "\n",
    "These loaders help standardize and prepare the data for further processing and embedding.\n",
    "\n",
    "📖 **Reference:**\n",
    "[LangChain Document Loaders](https://python.langchain.com/docs/concepts/document_loaders/)\n",
    "\n",
    "---\n",
    "\n"
   ]
  },
  {
   "cell_type": "code",
   "execution_count": 4,
   "metadata": {},
   "outputs": [
    {
     "name": "stdout",
     "output_type": "stream",
     "text": [
      "Note: you may need to restart the kernel to use updated packages.\n"
     ]
    }
   ],
   "source": [
    "%pip install -qU pypdf"
   ]
  },
  {
   "cell_type": "code",
   "execution_count": 6,
   "metadata": {},
   "outputs": [
    {
     "name": "stdout",
     "output_type": "stream",
     "text": [
      "{'producer': 'Microsoft® Word for Microsoft 365', 'creator': 'Microsoft® Word for Microsoft 365', 'creationdate': '2025-05-30T10:02:58-04:00', 'author': 'Resendiz, Elvia', 'moddate': '2025-05-30T10:02:58-04:00', 'source': './EVL.pdf', 'total_pages': 1, 'page': 0, 'page_label': '1'}\n",
      "\n",
      "840\n"
     ]
    }
   ],
   "source": [
    "from langchain_community.document_loaders import PyPDFLoader\n",
    "# Filter to fetch the only required content from the document\n",
    "# In this case only html tags with below values are only loaded\n",
    "# bs4_strainer = bs4.SoupStrainer(class_=(\"post-title\", \"post-content\", \"post-header\"))\n",
    "# loader = WebBaseLoader(\n",
    "#   web_paths = (\"https://lilianweng.github.io/posts/2023-06-23-agent/\"),\n",
    "#   bs_kwargs={\"parse_only\": bs4_strainer},\n",
    "# )\n",
    "# docs = loader.load()\n",
    "\n",
    "filePath = \"<sample pdf file>\"\n",
    "loader = PyPDFLoader(filePath)\n",
    "pages = []\n",
    "async for page in loader.alazy_load():\n",
    "  pages.append(page)\n",
    "\n",
    "\n",
    "print(f\"{pages[0].metadata}\\n\")\n",
    "print(len(pages[0].page_content))"
   ]
  },
  {
   "cell_type": "code",
   "execution_count": 7,
   "metadata": {},
   "outputs": [],
   "source": [
    "from langchain_aws import BedrockEmbeddings\n",
    "from langchain_core.vectorstores import InMemoryVectorStore\n",
    "\n",
    "embeddings = BedrockEmbeddings(model_id=\"amazon.titan-embed-text-v2:0\")\n",
    "vector_store = InMemoryVectorStore.from_documents(pages, embeddings)\n"
   ]
  },
  {
   "cell_type": "code",
   "execution_count": 8,
   "metadata": {},
   "outputs": [
    {
     "data": {
      "text/plain": [
       "'\\nSample code to search the vector store\\n\\ndocs = vector_store.similarity_search(\"<query>\", k=2)\\nfor doc in docs:\\n  print(f\"Metadata: {doc.metadata[\"page\"]}\")\\n  print(f\"Content: {doc.page_content}\\n\")\\n\\n'"
      ]
     },
     "execution_count": 8,
     "metadata": {},
     "output_type": "execute_result"
    }
   ],
   "source": [
    "\n",
    "\"\"\"\n",
    "Sample code to search the vector store\n",
    "\n",
    "docs = vector_store.similarity_search(\"<query>\", k=2)\n",
    "for doc in docs:\n",
    "  print(f\"Metadata: {doc.metadata[\"page\"]}\")\n",
    "  print(f\"Content: {doc.page_content}\\n\")\n",
    "\n",
    "\"\"\""
   ]
  },
  {
   "cell_type": "markdown",
   "metadata": {},
   "source": [
    "\n",
    "\n",
    "---\n",
    "\n",
    "Now that our vector store is loaded with documents, it’s time to add the **Retrieve** and **Generate** nodes to the graph. This process is similar to setting up a chatbot.\n",
    "\n",
    "**Steps:**\n",
    "\n",
    "* Create nodes for **Retrieve** and **Generate**.\n",
    "\n",
    "* Connect edges between **Start → Retrieve** and **Retrieve → Generate**.\n",
    "\n",
    "* The **Retrieve** node performs a search on the vector store using the user’s question.\n",
    "\n",
    "* The **Generate** node formats the prompt by combining the user’s question with the retrieved context, then invokes the model with this prompt to produce the response.\n",
    "\n",
    "---\n",
    "\n",
    "\n"
   ]
  },
  {
   "cell_type": "markdown",
   "metadata": {},
   "source": [
    "\n",
    "\n",
    "---\n",
    "\n",
    "Let’s begin by designing the prompt template. We can create a custom prompt using LangChain’s prompt template library. For this example, we’ll use a RAG-specific template that has been shared on the LangChain Hub.\n",
    "\n",
    "---\n"
   ]
  },
  {
   "cell_type": "code",
   "execution_count": 9,
   "metadata": {},
   "outputs": [
    {
     "name": "stderr",
     "output_type": "stream",
     "text": [
      "/opt/miniconda3/lib/python3.13/site-packages/langsmith/client.py:272: LangSmithMissingAPIKeyWarning: API key must be provided when using hosted LangSmith API\n",
      "  warnings.warn(\n"
     ]
    }
   ],
   "source": [
    "\n",
    "from langchain import hub\n",
    "prompt = hub.pull(\"rlm/rag-prompt\")\n",
    "\n",
    "example_messages = prompt.invoke(\n",
    "  {\"context\": \"(context goes here)\", \"question\": \"Question goes here\"}\n",
    ").to_messages()\n"
   ]
  },
  {
   "cell_type": "code",
   "execution_count": 10,
   "metadata": {},
   "outputs": [
    {
     "data": {
      "text/plain": [
       "ChatPromptTemplate(input_variables=['content', 'question'], input_types={}, partial_variables={}, messages=[AIMessagePromptTemplate(prompt=PromptTemplate(input_variables=[], input_types={}, partial_variables={}, template='You are an AI assistant that helps users find information in a document. You are given a context and a question. Your task is to provide a concise answer based on the context.'), additional_kwargs={}), HumanMessagePromptTemplate(prompt=PromptTemplate(input_variables=['content', 'question'], input_types={}, partial_variables={}, template='For the following question: {question}, give me the consice answer from this content: {content}'), additional_kwargs={})])"
      ]
     },
     "execution_count": 10,
     "metadata": {},
     "output_type": "execute_result"
    }
   ],
   "source": [
    "from langchain_core.prompts import ChatPromptTemplate\n",
    "example_messages = [\n",
    "  { \"role\": \"assistant\", \"content\": \"You are an AI assistant that helps users find information in a document. You are given a context and a question. Your task is to provide a concise answer based on the context.\" },\n",
    "  { \"role\": \"user\", \"content\": \"For the following question: {question}, give me the consice answer from this content: {content}\" }\n",
    "]\n",
    "prompt_template = ChatPromptTemplate.from_messages(example_messages)\n",
    "prompt_template\n"
   ]
  },
  {
   "cell_type": "code",
   "execution_count": 11,
   "metadata": {},
   "outputs": [],
   "source": [
    "from langchain_core.documents import Document\n",
    "from typing_extensions import List, TypedDict\n",
    "\n",
    "# defining the state for the rag, keeping track of the question, context, and answer\n",
    "class State(TypedDict):\n",
    "    question: str\n",
    "    content: List[Document]\n",
    "    answer: str"
   ]
  },
  {
   "cell_type": "markdown",
   "metadata": {},
   "source": [
    "creating retreive and generate graph nodes"
   ]
  },
  {
   "cell_type": "code",
   "execution_count": 12,
   "metadata": {},
   "outputs": [],
   "source": [
    "def retreive(state: State):\n",
    "  retrieved_docs = vector_store.similarity_search(state[\"question\"], k=2)\n",
    "  return { \"content\": retrieved_docs }\n",
    "\n",
    "def generate(state: State):\n",
    "  content = \"\\n\\n\".join(doc.page_content for doc in state[\"content\"])\n",
    "  prompt = prompt_template.invoke({\"question\": state[\"question\"], \"content\": content})\n",
    "  responses = model.invoke(prompt)\n",
    "  return { \"answer\": responses.content }"
   ]
  },
  {
   "cell_type": "code",
   "execution_count": 13,
   "metadata": {},
   "outputs": [],
   "source": [
    "from langgraph.graph import START, StateGraph\n",
    "graph_builder = StateGraph(State).add_sequence([ retreive, generate ])\n",
    "graph_builder.add_edge(START, \"retreive\")\n",
    "graph = graph_builder.compile()"
   ]
  },
  {
   "cell_type": "code",
   "execution_count": 14,
   "metadata": {},
   "outputs": [
    {
     "data": {
      "image/png": "[encoded data removed]",
      "text/plain": [
       "<IPython.core.display.Image object>"
      ]
     },
     "metadata": {},
     "output_type": "display_data"
    }
   ],
   "source": [
    "from IPython.display import Image, display\n",
    "\n",
    "display(Image(graph.get_graph().draw_mermaid_png()))"
   ]
  },
  {
   "cell_type": "code",
   "execution_count": 15,
   "metadata": {},
   "outputs": [
    {
     "name": "stdout",
     "output_type": "stream",
     "text": [
      "('Answer: Based on the given content, the position of Dinesh Reddy Allam at '\n",
      " 'Purpose Financial is Sr. Software Engineer.\\n'\n",
      " '\\n')\n"
     ]
    }
   ],
   "source": [
    "import pprint\n",
    "result = graph.invoke({\"question\": \"What is the position of the Dinesh Reddy Allam im purpose financial?\"})\n",
    "# pprint.pprint(f'Content: {result[\"content\"]}\\n\\n')\n",
    "pprint.pprint(f'Answer: {result[\"answer\"]}\\n\\n')"
   ]
  },
  {
   "cell_type": "markdown",
   "metadata": {},
   "source": [
    "\n",
    "\n",
    "---\n",
    "\n",
    "### Further Improvements / Use Cases: Enhancing Query Analysis\n",
    "\n",
    "At a high level, we can introduce an additional step called **query analysis**. In this step, we analyze the user’s query using a model designed to produce structured output. Based on this structured output, we can perform a more targeted search in the vector store to retrieve more relevant documents.\n",
    "\n",
    "**Example:**\n",
    "When indexing documents into the vector store, we can enrich their metadata—for instance, by adding sentiment labels (positive, negative) during the data preparation phase. Then, as part of the initial stage in the processing graph, we can analyze the query’s sentiment using a structured-output model. This sentiment information is passed to the retrieve node, allowing it to refine the similarity search by also filtering based on the sentiment metadata.\n",
    "\n",
    "The retrieved documents, now more closely aligned with the query’s intent, are then passed to the generate node for a more accurate and precise response.\n",
    "\n",
    "---\n",
    "\n",
    "**This query analysis step significantly improves the relevance of documents retrieved from the vector store.**\n",
    "\n",
    "---\n"
   ]
  },
  {
   "cell_type": "markdown",
   "metadata": {},
   "source": [
    "Here’s a simple example in Python using **LangChain** and **Pydantic** to create a query analysis model that outputs structured data (like sentiment), which can then be used to guide retrieval from a vector store.\n",
    "\n",
    "---\n",
    "\n",
    "### Sample Code: Query Analysis Model with Structured Output\n",
    "\n",
    "```python\n",
    "from langchain.chat_models import ChatOpenAI\n",
    "from langchain.prompts import ChatPromptTemplate, HumanMessagePromptTemplate, SystemMessagePromptTemplate\n",
    "from langchain.schema import BaseOutputParser\n",
    "from pydantic import BaseModel, Field\n",
    "from typing import Literal\n",
    "import json\n",
    "\n",
    "# 1. Define a Pydantic model for the structured output\n",
    "class QueryAnalysisResult(BaseModel):\n",
    "    sentiment: Literal[\"positive\", \"neutral\", \"negative\"] = Field(..., description=\"Sentiment of the query\")\n",
    "    intent: str = Field(..., description=\"User intent extracted from query\")\n",
    "\n",
    "# 2. Create an output parser to parse the JSON response into the Pydantic model\n",
    "class QueryAnalysisOutputParser(BaseOutputParser):\n",
    "    def parse(self, text: str) -> QueryAnalysisResult:\n",
    "        data = json.loads(text)\n",
    "        return QueryAnalysisResult(**data)\n",
    "\n",
    "# 3. Define the prompt template to instruct the LLM to output structured JSON\n",
    "prompt_template = ChatPromptTemplate.from_messages([\n",
    "    SystemMessagePromptTemplate.from_template(\n",
    "        \"Analyze the user's query and provide the sentiment (positive, neutral, negative) and user intent in JSON format.\"\n",
    "    ),\n",
    "    HumanMessagePromptTemplate.from_template(\"{query}\")\n",
    "])\n",
    "\n",
    "# 4. Initialize the chat model (using OpenAI GPT for example)\n",
    "chat_model = ChatOpenAI(temperature=0)\n",
    "\n",
    "# 5. Define a function to perform query analysis\n",
    "def analyze_query(query: str) -> QueryAnalysisResult:\n",
    "    # Format the prompt with the user query\n",
    "    messages = prompt_template.format_messages(query=query)\n",
    "    # Get the LLM response\n",
    "    response = chat_model(messages)\n",
    "    # Parse the JSON output into the structured model\n",
    "    parsed_output = QueryAnalysisOutputParser().parse(response.content)\n",
    "    return parsed_output\n",
    "\n",
    "# Example usage\n",
    "if __name__ == \"__main__\":\n",
    "    user_query = \"I am unhappy with the recent service update.\"\n",
    "    analysis = analyze_query(user_query)\n",
    "    print(f\"Sentiment: {analysis.sentiment}\")\n",
    "    print(f\"Intent: {analysis.intent}\")\n",
    "```\n",
    "\n",
    "---\n",
    "\n",
    "### Explanation:\n",
    "\n",
    "* **Step 1:** Defines a Pydantic model `QueryAnalysisResult` with fields for sentiment and intent.\n",
    "* **Step 2:** Implements a custom parser that converts the model’s JSON output into the Pydantic model.\n",
    "* **Step 3:** Creates a prompt template that instructs the LLM to respond with a JSON containing sentiment and intent.\n",
    "* **Step 4:** Sets up a chat model (you can replace this with any supported LLM).\n",
    "* **Step 5:** Runs the query through the model and parses the structured output.\n",
    "\n",
    "---\n",
    "\n",
    "You can then use the sentiment and intent fields in your retrieval node to filter or enhance the vector store search.\n",
    "\n",
    "\n"
   ]
  }
 ],
 "metadata": {
  "kernelspec": {
   "display_name": "base",
   "language": "python",
   "name": "python3"
  },
  "language_info": {
   "codemirror_mode": {
    "name": "ipython",
    "version": 3
   },
   "file_extension": ".py",
   "mimetype": "text/x-python",
   "name": "python",
   "nbconvert_exporter": "python",
   "pygments_lexer": "ipython3",
   "version": "3.13.5"
  }
 },
 "nbformat": 4,
 "nbformat_minor": 2
}
