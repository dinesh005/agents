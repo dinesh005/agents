{
 "cells": [
  {
   "cell_type": "code",
   "execution_count": 1,
   "id": "f22152ae",
   "metadata": {},
   "outputs": [
    {
     "name": "stdout",
     "output_type": "stream",
     "text": [
      "Requirement already satisfied: langgraph in /opt/anaconda3/lib/python3.12/site-packages (0.4.8)\n",
      "Requirement already satisfied: langchain[aws] in /opt/anaconda3/lib/python3.12/site-packages (0.3.25)\n",
      "Requirement already satisfied: langchain-core>=0.1 in /opt/anaconda3/lib/python3.12/site-packages (from langgraph) (0.3.65)\n",
      "Requirement already satisfied: langgraph-checkpoint>=2.0.26 in /opt/anaconda3/lib/python3.12/site-packages (from langgraph) (2.0.26)\n",
      "Requirement already satisfied: langgraph-prebuilt>=0.2.0 in /opt/anaconda3/lib/python3.12/site-packages (from langgraph) (0.2.2)\n",
      "Requirement already satisfied: langgraph-sdk>=0.1.42 in /opt/anaconda3/lib/python3.12/site-packages (from langgraph) (0.1.70)\n",
      "Requirement already satisfied: pydantic>=2.7.4 in /opt/anaconda3/lib/python3.12/site-packages (from langgraph) (2.10.3)\n",
      "Requirement already satisfied: xxhash>=3.5.0 in /opt/anaconda3/lib/python3.12/site-packages (from langgraph) (3.5.0)\n",
      "Requirement already satisfied: langchain-text-splitters<1.0.0,>=0.3.8 in /opt/anaconda3/lib/python3.12/site-packages (from langchain[aws]) (0.3.8)\n",
      "Requirement already satisfied: langsmith<0.4,>=0.1.17 in /opt/anaconda3/lib/python3.12/site-packages (from langchain[aws]) (0.3.45)\n",
      "Requirement already satisfied: SQLAlchemy<3,>=1.4 in /opt/anaconda3/lib/python3.12/site-packages (from langchain[aws]) (2.0.30)\n",
      "Requirement already satisfied: requests<3,>=2 in /opt/anaconda3/lib/python3.12/site-packages (from langchain[aws]) (2.32.2)\n",
      "Requirement already satisfied: PyYAML>=5.3 in /opt/anaconda3/lib/python3.12/site-packages (from langchain[aws]) (6.0.1)\n",
      "Requirement already satisfied: langchain-aws in /opt/anaconda3/lib/python3.12/site-packages (from langchain[aws]) (0.2.25)\n",
      "Requirement already satisfied: tenacity!=8.4.0,<10.0.0,>=8.1.0 in /opt/anaconda3/lib/python3.12/site-packages (from langchain-core>=0.1->langgraph) (8.2.2)\n",
      "Requirement already satisfied: jsonpatch<2.0,>=1.33 in /opt/anaconda3/lib/python3.12/site-packages (from langchain-core>=0.1->langgraph) (1.33)\n",
      "Requirement already satisfied: packaging<25,>=23.2 in /opt/anaconda3/lib/python3.12/site-packages (from langchain-core>=0.1->langgraph) (23.2)\n",
      "Requirement already satisfied: typing-extensions>=4.7 in /opt/anaconda3/lib/python3.12/site-packages (from langchain-core>=0.1->langgraph) (4.12.2)\n",
      "Requirement already satisfied: ormsgpack<2.0.0,>=1.8.0 in /opt/anaconda3/lib/python3.12/site-packages (from langgraph-checkpoint>=2.0.26->langgraph) (1.10.0)\n",
      "Requirement already satisfied: httpx>=0.25.2 in /opt/anaconda3/lib/python3.12/site-packages (from langgraph-sdk>=0.1.42->langgraph) (0.28.1)\n",
      "Requirement already satisfied: orjson>=3.10.1 in /opt/anaconda3/lib/python3.12/site-packages (from langgraph-sdk>=0.1.42->langgraph) (3.10.18)\n",
      "Requirement already satisfied: requests-toolbelt<2.0.0,>=1.0.0 in /opt/anaconda3/lib/python3.12/site-packages (from langsmith<0.4,>=0.1.17->langchain[aws]) (1.0.0)\n",
      "Requirement already satisfied: zstandard<0.24.0,>=0.23.0 in /opt/anaconda3/lib/python3.12/site-packages (from langsmith<0.4,>=0.1.17->langchain[aws]) (0.23.0)\n",
      "Requirement already satisfied: annotated-types>=0.6.0 in /opt/anaconda3/lib/python3.12/site-packages (from pydantic>=2.7.4->langgraph) (0.6.0)\n",
      "Requirement already satisfied: pydantic-core==2.27.1 in /opt/anaconda3/lib/python3.12/site-packages (from pydantic>=2.7.4->langgraph) (2.27.1)\n",
      "Requirement already satisfied: charset-normalizer<4,>=2 in /opt/anaconda3/lib/python3.12/site-packages (from requests<3,>=2->langchain[aws]) (2.0.4)\n",
      "Requirement already satisfied: idna<4,>=2.5 in /opt/anaconda3/lib/python3.12/site-packages (from requests<3,>=2->langchain[aws]) (3.7)\n",
      "Requirement already satisfied: urllib3<3,>=1.21.1 in /opt/anaconda3/lib/python3.12/site-packages (from requests<3,>=2->langchain[aws]) (2.2.2)\n",
      "Requirement already satisfied: certifi>=2017.4.17 in /opt/anaconda3/lib/python3.12/site-packages (from requests<3,>=2->langchain[aws]) (2025.4.26)\n",
      "Requirement already satisfied: boto3>=1.37.24 in /opt/anaconda3/lib/python3.12/site-packages (from langchain-aws->langchain[aws]) (1.38.34)\n",
      "Requirement already satisfied: numpy<3,>=1.26.0 in /opt/anaconda3/lib/python3.12/site-packages (from langchain-aws->langchain[aws]) (1.26.4)\n",
      "Requirement already satisfied: botocore<1.39.0,>=1.38.34 in /opt/anaconda3/lib/python3.12/site-packages (from boto3>=1.37.24->langchain-aws->langchain[aws]) (1.38.34)\n",
      "Requirement already satisfied: jmespath<2.0.0,>=0.7.1 in /opt/anaconda3/lib/python3.12/site-packages (from boto3>=1.37.24->langchain-aws->langchain[aws]) (1.0.1)\n",
      "Requirement already satisfied: s3transfer<0.14.0,>=0.13.0 in /opt/anaconda3/lib/python3.12/site-packages (from boto3>=1.37.24->langchain-aws->langchain[aws]) (0.13.0)\n",
      "Requirement already satisfied: anyio in /opt/anaconda3/lib/python3.12/site-packages (from httpx>=0.25.2->langgraph-sdk>=0.1.42->langgraph) (4.2.0)\n",
      "Requirement already satisfied: httpcore==1.* in /opt/anaconda3/lib/python3.12/site-packages (from httpx>=0.25.2->langgraph-sdk>=0.1.42->langgraph) (1.0.9)\n",
      "Requirement already satisfied: h11>=0.16 in /opt/anaconda3/lib/python3.12/site-packages (from httpcore==1.*->httpx>=0.25.2->langgraph-sdk>=0.1.42->langgraph) (0.16.0)\n",
      "Requirement already satisfied: jsonpointer>=1.9 in /opt/anaconda3/lib/python3.12/site-packages (from jsonpatch<2.0,>=1.33->langchain-core>=0.1->langgraph) (2.1)\n",
      "Requirement already satisfied: python-dateutil<3.0.0,>=2.1 in /opt/anaconda3/lib/python3.12/site-packages (from botocore<1.39.0,>=1.38.34->boto3>=1.37.24->langchain-aws->langchain[aws]) (2.9.0.post0)\n",
      "Requirement already satisfied: sniffio>=1.1 in /opt/anaconda3/lib/python3.12/site-packages (from anyio->httpx>=0.25.2->langgraph-sdk>=0.1.42->langgraph) (1.3.0)\n",
      "Requirement already satisfied: six>=1.5 in /opt/anaconda3/lib/python3.12/site-packages (from python-dateutil<3.0.0,>=2.1->botocore<1.39.0,>=1.38.34->boto3>=1.37.24->langchain-aws->langchain[aws]) (1.16.0)\n"
     ]
    }
   ],
   "source": [
    "!pip install langgraph \"langchain[aws]\""
   ]
  },
  {
   "cell_type": "code",
   "execution_count": 1,
   "id": "d9286daf",
   "metadata": {},
   "outputs": [],
   "source": [
    "from typing import Annotated\n",
    "from typing_extensions import TypedDict\n",
    "from langgraph.graph import START, StateGraph\n",
    "from langgraph.graph.message import add_messages\n"
   ]
  },
  {
   "cell_type": "code",
   "execution_count": 3,
   "id": "ee843d24",
   "metadata": {},
   "outputs": [],
   "source": [
    "class State(TypedDict):\n",
    "    \"\"\"State for the graph.\"\"\"\n",
    "    messages: Annotated[list, add_messages]\n",
    "graph_builder = StateGraph(State)\n"
   ]
  },
  {
   "cell_type": "code",
   "execution_count": 4,
   "id": "52a35c86",
   "metadata": {},
   "outputs": [],
   "source": [
    "from langgraph.checkpoint.memory import InMemorySaver"
   ]
  },
  {
   "cell_type": "code",
   "execution_count": 5,
   "id": "6927a10c",
   "metadata": {},
   "outputs": [],
   "source": [
    "checkpointer = InMemorySaver()"
   ]
  },
  {
   "cell_type": "code",
   "execution_count": 6,
   "id": "b4d0af0c",
   "metadata": {},
   "outputs": [
    {
     "data": {
      "text/plain": [
       "<langgraph.graph.state.StateGraph at 0x10a955280>"
      ]
     },
     "execution_count": 6,
     "metadata": {},
     "output_type": "execute_result"
    }
   ],
   "source": [
    "from langchain.chat_models import init_chat_model\n",
    "model = init_chat_model(\"anthropic.claude-3-5-sonnet-20240620-v1:0\", model_provider=\"bedrock_converse\")\n",
    "def chatbot(state: State) -> State:\n",
    "    \"\"\"Chatbot function to handle messages.\"\"\"\n",
    "    # response = model.invoke(state[\"messages\"])\n",
    "    # print(response)\n",
    "    # state[\"messages\"].append(response)\n",
    "    # return state\n",
    "    return {\"messages\": [model.invoke(state[\"messages\"])]}\n",
    "graph_builder.add_node(\"chatbot\", chatbot)\n"
   ]
  },
  {
   "cell_type": "code",
   "execution_count": 7,
   "id": "0fe9e66c",
   "metadata": {},
   "outputs": [],
   "source": [
    "graph_builder.add_edge(START, \"chatbot\")\n",
    "graph = graph_builder.compile(checkpointer=checkpointer)"
   ]
  },
  {
   "cell_type": "code",
   "execution_count": 8,
   "id": "5eca30ee",
   "metadata": {},
   "outputs": [
    {
     "data": {
      "image/png": "[encoded data removed]",
      "text/plain": [
       "<IPython.core.display.Image object>"
      ]
     },
     "metadata": {},
     "output_type": "display_data"
    }
   ],
   "source": [
    "from IPython.display import Image, display\n",
    "\n",
    "try:\n",
    "    display(Image(graph.get_graph().draw_mermaid_png()))\n",
    "except Exception:\n",
    "    # This requires some extra dependencies and is optional\n",
    "    pass"
   ]
  },
  {
   "cell_type": "code",
   "execution_count": 9,
   "id": "d6879eb0",
   "metadata": {},
   "outputs": [],
   "source": [
    "config = {\n",
    "      \"configurable\": {\n",
    "          # highlight-next-line\n",
    "          \"thread_id\": \"1\"\n",
    "      }\n",
    "  }"
   ]
  },
  {
   "cell_type": "code",
   "execution_count": 10,
   "id": "fbf9c0e7",
   "metadata": {},
   "outputs": [],
   "source": [
    "def stream_graph_responses(user_input: str, config: dict = config) -> None:\n",
    "    \"\"\"Stream responses from the graph.\"\"\"\n",
    "    state = {\"messages\": [{\"role\": \"user\", \"content\": user_input}]}\n",
    "    for response in graph.stream(state, config=config):\n",
    "        print(response,\"response bfore iterating values\")\n",
    "        for value in response.values():\n",
    "            print(value)\n",
    "            print(\"Assistant :\", value[\"messages\"][-1].content,end=\"\")"
   ]
  },
  {
   "cell_type": "code",
   "execution_count": 11,
   "id": "0d243c40",
   "metadata": {},
   "outputs": [
    {
     "name": "stdout",
     "output_type": "stream",
     "text": [
      "{'chatbot': {'messages': [AIMessage(content='Iconic iron lattice tower in Paris, France, standing 324 meters tall and attracting millions of visitors annually.', additional_kwargs={}, response_metadata={'ResponseMetadata': {'RequestId': '73f0a165-75ba-4bfc-bbd0-1560e2f483f1', 'HTTPStatusCode': 200, 'HTTPHeaders': {'date': 'Sun, 29 Jun 2025 05:31:29 GMT', 'content-type': 'application/json', 'content-length': '295', 'connection': 'keep-alive', 'x-amzn-requestid': '73f0a165-75ba-4bfc-bbd0-1560e2f483f1'}, 'RetryAttempts': 0}, 'stopReason': 'end_turn', 'metrics': {'latencyMs': [826]}, 'model_name': 'anthropic.claude-3-5-sonnet-20240620-v1:0'}, id='run--e2e361cb-4086-4a84-8c5c-a719f24e91c9-0', usage_metadata={'input_tokens': 23, 'output_tokens': 28, 'total_tokens': 51, 'input_token_details': {'cache_creation': 0, 'cache_read': 0}})]}} response bfore iterating values\n",
      "{'messages': [AIMessage(content='Iconic iron lattice tower in Paris, France, standing 324 meters tall and attracting millions of visitors annually.', additional_kwargs={}, response_metadata={'ResponseMetadata': {'RequestId': '73f0a165-75ba-4bfc-bbd0-1560e2f483f1', 'HTTPStatusCode': 200, 'HTTPHeaders': {'date': 'Sun, 29 Jun 2025 05:31:29 GMT', 'content-type': 'application/json', 'content-length': '295', 'connection': 'keep-alive', 'x-amzn-requestid': '73f0a165-75ba-4bfc-bbd0-1560e2f483f1'}, 'RetryAttempts': 0}, 'stopReason': 'end_turn', 'metrics': {'latencyMs': [826]}, 'model_name': 'anthropic.claude-3-5-sonnet-20240620-v1:0'}, id='run--e2e361cb-4086-4a84-8c5c-a719f24e91c9-0', usage_metadata={'input_tokens': 23, 'output_tokens': 28, 'total_tokens': 51, 'input_token_details': {'cache_creation': 0, 'cache_read': 0}})]}\n",
      "Assistant : Iconic iron lattice tower in Paris, France, standing 324 meters tall and attracting millions of visitors annually."
     ]
    }
   ],
   "source": [
    "user_input = \"Give me a short description of the Eiffel Tower in one line.\"    \n",
    "stream_graph_responses(user_input)\n"
   ]
  },
  {
   "cell_type": "code",
   "execution_count": 12,
   "id": "c6b93c94",
   "metadata": {},
   "outputs": [
    {
     "name": "stdout",
     "output_type": "stream",
     "text": [
      "{'chatbot': {'messages': [AIMessage(content=\"Hello Dinesh! It's nice to meet you. As a senior software engineer at Purpose Financial, you must have a wealth of experience in the field. Is there anything specific you'd like to discuss or ask about related to your work, software engineering, or any other topic? I'm here to help if you have any questions or if you'd just like to chat about your experiences in the industry.\", additional_kwargs={}, response_metadata={'ResponseMetadata': {'RequestId': '1cad3474-ac8d-4826-a894-c06f0ead564c', 'HTTPStatusCode': 200, 'HTTPHeaders': {'date': 'Sun, 29 Jun 2025 05:32:45 GMT', 'content-type': 'application/json', 'content-length': '561', 'connection': 'keep-alive', 'x-amzn-requestid': '1cad3474-ac8d-4826-a894-c06f0ead564c'}, 'RetryAttempts': 0}, 'stopReason': 'end_turn', 'metrics': {'latencyMs': [2195]}, 'model_name': 'anthropic.claude-3-5-sonnet-20240620-v1:0'}, id='run--ca16a6e1-cfe8-42a2-b246-7670f120a340-0', usage_metadata={'input_tokens': 71, 'output_tokens': 85, 'total_tokens': 156, 'input_token_details': {'cache_creation': 0, 'cache_read': 0}})]}} response bfore iterating values\n",
      "{'messages': [AIMessage(content=\"Hello Dinesh! It's nice to meet you. As a senior software engineer at Purpose Financial, you must have a wealth of experience in the field. Is there anything specific you'd like to discuss or ask about related to your work, software engineering, or any other topic? I'm here to help if you have any questions or if you'd just like to chat about your experiences in the industry.\", additional_kwargs={}, response_metadata={'ResponseMetadata': {'RequestId': '1cad3474-ac8d-4826-a894-c06f0ead564c', 'HTTPStatusCode': 200, 'HTTPHeaders': {'date': 'Sun, 29 Jun 2025 05:32:45 GMT', 'content-type': 'application/json', 'content-length': '561', 'connection': 'keep-alive', 'x-amzn-requestid': '1cad3474-ac8d-4826-a894-c06f0ead564c'}, 'RetryAttempts': 0}, 'stopReason': 'end_turn', 'metrics': {'latencyMs': [2195]}, 'model_name': 'anthropic.claude-3-5-sonnet-20240620-v1:0'}, id='run--ca16a6e1-cfe8-42a2-b246-7670f120a340-0', usage_metadata={'input_tokens': 71, 'output_tokens': 85, 'total_tokens': 156, 'input_token_details': {'cache_creation': 0, 'cache_read': 0}})]}\n",
      "Assistant : Hello Dinesh! It's nice to meet you. As a senior software engineer at Purpose Financial, you must have a wealth of experience in the field. Is there anything specific you'd like to discuss or ask about related to your work, software engineering, or any other topic? I'm here to help if you have any questions or if you'd just like to chat about your experiences in the industry."
     ]
    }
   ],
   "source": [
    "user_input = \"My name is Dinesh and i am a senior software engineer at purpose financial.\"\n",
    "stream_graph_responses(user_input)"
   ]
  },
  {
   "cell_type": "code",
   "execution_count": 13,
   "id": "4aa57896",
   "metadata": {},
   "outputs": [
    {
     "name": "stdout",
     "output_type": "stream",
     "text": [
      "{'chatbot': {'messages': [AIMessage(content='Based on the information you provided:\\n\\nYour name is Dinesh.\\n\\nYour profession is Senior Software Engineer at Purpose Financial.', additional_kwargs={}, response_metadata={'ResponseMetadata': {'RequestId': '3a5dd222-721e-47da-b3ec-6b16d0c54a37', 'HTTPStatusCode': 200, 'HTTPHeaders': {'date': 'Sun, 29 Jun 2025 05:33:08 GMT', 'content-type': 'application/json', 'content-length': '314', 'connection': 'keep-alive', 'x-amzn-requestid': '3a5dd222-721e-47da-b3ec-6b16d0c54a37'}, 'RetryAttempts': 0}, 'stopReason': 'end_turn', 'metrics': {'latencyMs': [844]}, 'model_name': 'anthropic.claude-3-5-sonnet-20240620-v1:0'}, id='run--2f4345ee-39c1-4e5b-a927-14ed783636bb-0', usage_metadata={'input_tokens': 170, 'output_tokens': 29, 'total_tokens': 199, 'input_token_details': {'cache_creation': 0, 'cache_read': 0}})]}} response bfore iterating values\n",
      "{'messages': [AIMessage(content='Based on the information you provided:\\n\\nYour name is Dinesh.\\n\\nYour profession is Senior Software Engineer at Purpose Financial.', additional_kwargs={}, response_metadata={'ResponseMetadata': {'RequestId': '3a5dd222-721e-47da-b3ec-6b16d0c54a37', 'HTTPStatusCode': 200, 'HTTPHeaders': {'date': 'Sun, 29 Jun 2025 05:33:08 GMT', 'content-type': 'application/json', 'content-length': '314', 'connection': 'keep-alive', 'x-amzn-requestid': '3a5dd222-721e-47da-b3ec-6b16d0c54a37'}, 'RetryAttempts': 0}, 'stopReason': 'end_turn', 'metrics': {'latencyMs': [844]}, 'model_name': 'anthropic.claude-3-5-sonnet-20240620-v1:0'}, id='run--2f4345ee-39c1-4e5b-a927-14ed783636bb-0', usage_metadata={'input_tokens': 170, 'output_tokens': 29, 'total_tokens': 199, 'input_token_details': {'cache_creation': 0, 'cache_read': 0}})]}\n",
      "Assistant : Based on the information you provided:\n",
      "\n",
      "Your name is Dinesh.\n",
      "\n",
      "Your profession is Senior Software Engineer at Purpose Financial."
     ]
    }
   ],
   "source": [
    "user_input = \"What is my name? Whats my profession?\"\n",
    "stream_graph_responses(user_input)"
   ]
  },
  {
   "cell_type": "code",
   "execution_count": 18,
   "id": "1669101d",
   "metadata": {},
   "outputs": [
    {
     "name": "stdout",
     "output_type": "stream",
     "text": [
      "Collecting langgraph-checkpoint-redis\n",
      "\u001b[33m  WARNING: Retrying (Retry(total=4, connect=None, read=None, redirect=None, status=None)) after connection broken by 'ReadTimeoutError(\"HTTPSConnectionPool(host='files.pythonhosted.org', port=443): Read timed out. (read timeout=15)\")': /packages/21/4e/d91901da7e0aa51b33b275098bcc319102773826888483e9cddd2ba1815e/langgraph_checkpoint_redis-0.0.8-py3-none-any.whl.metadata\u001b[0m\u001b[33m\n",
      "\u001b[0m  Downloading langgraph_checkpoint_redis-0.0.8-py3-none-any.whl.metadata (11 kB)\n",
      "Requirement already satisfied: langgraph-checkpoint>=2.0.26 in /opt/anaconda3/lib/python3.12/site-packages (from langgraph-checkpoint-redis) (2.0.26)\n",
      "Collecting redisvl<1.0.0,>=0.5.1 (from langgraph-checkpoint-redis)\n",
      "  Downloading redisvl-0.8.0-py3-none-any.whl.metadata (17 kB)\n",
      "Requirement already satisfied: langchain-core>=0.2.38 in /opt/anaconda3/lib/python3.12/site-packages (from langgraph-checkpoint>=2.0.26->langgraph-checkpoint-redis) (0.3.65)\n",
      "Requirement already satisfied: ormsgpack<2.0.0,>=1.8.0 in /opt/anaconda3/lib/python3.12/site-packages (from langgraph-checkpoint>=2.0.26->langgraph-checkpoint-redis) (1.10.0)\n",
      "Collecting jsonpath-ng>=1.5.0 (from redisvl<1.0.0,>=0.5.1->langgraph-checkpoint-redis)\n",
      "  Downloading jsonpath_ng-1.7.0-py3-none-any.whl.metadata (18 kB)\n",
      "Collecting ml-dtypes<1.0.0,>=0.4.0 (from redisvl<1.0.0,>=0.5.1->langgraph-checkpoint-redis)\n",
      "  Downloading ml_dtypes-0.5.1-cp312-cp312-macosx_10_9_universal2.whl.metadata (21 kB)\n",
      "Requirement already satisfied: numpy<3,>=1.26.0 in /opt/anaconda3/lib/python3.12/site-packages (from redisvl<1.0.0,>=0.5.1->langgraph-checkpoint-redis) (1.26.4)\n",
      "Requirement already satisfied: pydantic<3,>=2 in /opt/anaconda3/lib/python3.12/site-packages (from redisvl<1.0.0,>=0.5.1->langgraph-checkpoint-redis) (2.10.3)\n",
      "Collecting python-ulid>=3.0.0 (from redisvl<1.0.0,>=0.5.1->langgraph-checkpoint-redis)\n",
      "  Downloading python_ulid-3.0.0-py3-none-any.whl.metadata (5.8 kB)\n",
      "Requirement already satisfied: pyyaml<7.0,>=5.4 in /opt/anaconda3/lib/python3.12/site-packages (from redisvl<1.0.0,>=0.5.1->langgraph-checkpoint-redis) (6.0.1)\n",
      "Collecting redis<7.0,>=5.0 (from redisvl<1.0.0,>=0.5.1->langgraph-checkpoint-redis)\n",
      "  Downloading redis-6.2.0-py3-none-any.whl.metadata (10 kB)\n",
      "Requirement already satisfied: tenacity>=8.2.2 in /opt/anaconda3/lib/python3.12/site-packages (from redisvl<1.0.0,>=0.5.1->langgraph-checkpoint-redis) (8.2.2)\n",
      "Requirement already satisfied: ply in /opt/anaconda3/lib/python3.12/site-packages (from jsonpath-ng>=1.5.0->redisvl<1.0.0,>=0.5.1->langgraph-checkpoint-redis) (3.11)\n",
      "Requirement already satisfied: langsmith<0.4,>=0.3.45 in /opt/anaconda3/lib/python3.12/site-packages (from langchain-core>=0.2.38->langgraph-checkpoint>=2.0.26->langgraph-checkpoint-redis) (0.3.45)\n",
      "Requirement already satisfied: jsonpatch<2.0,>=1.33 in /opt/anaconda3/lib/python3.12/site-packages (from langchain-core>=0.2.38->langgraph-checkpoint>=2.0.26->langgraph-checkpoint-redis) (1.33)\n",
      "Requirement already satisfied: packaging<25,>=23.2 in /opt/anaconda3/lib/python3.12/site-packages (from langchain-core>=0.2.38->langgraph-checkpoint>=2.0.26->langgraph-checkpoint-redis) (23.2)\n",
      "Requirement already satisfied: typing-extensions>=4.7 in /opt/anaconda3/lib/python3.12/site-packages (from langchain-core>=0.2.38->langgraph-checkpoint>=2.0.26->langgraph-checkpoint-redis) (4.12.2)\n",
      "Requirement already satisfied: annotated-types>=0.6.0 in /opt/anaconda3/lib/python3.12/site-packages (from pydantic<3,>=2->redisvl<1.0.0,>=0.5.1->langgraph-checkpoint-redis) (0.6.0)\n",
      "Requirement already satisfied: pydantic-core==2.27.1 in /opt/anaconda3/lib/python3.12/site-packages (from pydantic<3,>=2->redisvl<1.0.0,>=0.5.1->langgraph-checkpoint-redis) (2.27.1)\n",
      "Requirement already satisfied: jsonpointer>=1.9 in /opt/anaconda3/lib/python3.12/site-packages (from jsonpatch<2.0,>=1.33->langchain-core>=0.2.38->langgraph-checkpoint>=2.0.26->langgraph-checkpoint-redis) (2.1)\n",
      "Requirement already satisfied: httpx<1,>=0.23.0 in /opt/anaconda3/lib/python3.12/site-packages (from langsmith<0.4,>=0.3.45->langchain-core>=0.2.38->langgraph-checkpoint>=2.0.26->langgraph-checkpoint-redis) (0.28.1)\n",
      "Requirement already satisfied: orjson<4.0.0,>=3.9.14 in /opt/anaconda3/lib/python3.12/site-packages (from langsmith<0.4,>=0.3.45->langchain-core>=0.2.38->langgraph-checkpoint>=2.0.26->langgraph-checkpoint-redis) (3.10.18)\n",
      "Requirement already satisfied: requests<3,>=2 in /opt/anaconda3/lib/python3.12/site-packages (from langsmith<0.4,>=0.3.45->langchain-core>=0.2.38->langgraph-checkpoint>=2.0.26->langgraph-checkpoint-redis) (2.32.2)\n",
      "Requirement already satisfied: requests-toolbelt<2.0.0,>=1.0.0 in /opt/anaconda3/lib/python3.12/site-packages (from langsmith<0.4,>=0.3.45->langchain-core>=0.2.38->langgraph-checkpoint>=2.0.26->langgraph-checkpoint-redis) (1.0.0)\n",
      "Requirement already satisfied: zstandard<0.24.0,>=0.23.0 in /opt/anaconda3/lib/python3.12/site-packages (from langsmith<0.4,>=0.3.45->langchain-core>=0.2.38->langgraph-checkpoint>=2.0.26->langgraph-checkpoint-redis) (0.23.0)\n",
      "Requirement already satisfied: anyio in /opt/anaconda3/lib/python3.12/site-packages (from httpx<1,>=0.23.0->langsmith<0.4,>=0.3.45->langchain-core>=0.2.38->langgraph-checkpoint>=2.0.26->langgraph-checkpoint-redis) (4.2.0)\n",
      "Requirement already satisfied: certifi in /opt/anaconda3/lib/python3.12/site-packages (from httpx<1,>=0.23.0->langsmith<0.4,>=0.3.45->langchain-core>=0.2.38->langgraph-checkpoint>=2.0.26->langgraph-checkpoint-redis) (2025.4.26)\n",
      "Requirement already satisfied: httpcore==1.* in /opt/anaconda3/lib/python3.12/site-packages (from httpx<1,>=0.23.0->langsmith<0.4,>=0.3.45->langchain-core>=0.2.38->langgraph-checkpoint>=2.0.26->langgraph-checkpoint-redis) (1.0.9)\n",
      "Requirement already satisfied: idna in /opt/anaconda3/lib/python3.12/site-packages (from httpx<1,>=0.23.0->langsmith<0.4,>=0.3.45->langchain-core>=0.2.38->langgraph-checkpoint>=2.0.26->langgraph-checkpoint-redis) (3.7)\n",
      "Requirement already satisfied: h11>=0.16 in /opt/anaconda3/lib/python3.12/site-packages (from httpcore==1.*->httpx<1,>=0.23.0->langsmith<0.4,>=0.3.45->langchain-core>=0.2.38->langgraph-checkpoint>=2.0.26->langgraph-checkpoint-redis) (0.16.0)\n",
      "Requirement already satisfied: charset-normalizer<4,>=2 in /opt/anaconda3/lib/python3.12/site-packages (from requests<3,>=2->langsmith<0.4,>=0.3.45->langchain-core>=0.2.38->langgraph-checkpoint>=2.0.26->langgraph-checkpoint-redis) (2.0.4)\n",
      "Requirement already satisfied: urllib3<3,>=1.21.1 in /opt/anaconda3/lib/python3.12/site-packages (from requests<3,>=2->langsmith<0.4,>=0.3.45->langchain-core>=0.2.38->langgraph-checkpoint>=2.0.26->langgraph-checkpoint-redis) (2.2.2)\n",
      "Requirement already satisfied: sniffio>=1.1 in /opt/anaconda3/lib/python3.12/site-packages (from anyio->httpx<1,>=0.23.0->langsmith<0.4,>=0.3.45->langchain-core>=0.2.38->langgraph-checkpoint>=2.0.26->langgraph-checkpoint-redis) (1.3.0)\n",
      "Downloading langgraph_checkpoint_redis-0.0.8-py3-none-any.whl (62 kB)\n",
      "\u001b[2K   \u001b[90m━━━━━━━━━━━━━━━━━━━━━━━━━━━━━━━━━━━━━━━━\u001b[0m \u001b[32m62.1/62.1 kB\u001b[0m \u001b[31m3.1 MB/s\u001b[0m eta \u001b[36m0:00:00\u001b[0m\n",
      "\u001b[?25hDownloading redisvl-0.8.0-py3-none-any.whl (152 kB)\n",
      "\u001b[2K   \u001b[90m━━━━━━━━━━━━━━━━━━━━━━━━━━━━━━━━━━━━━━━━\u001b[0m \u001b[32m152.3/152.3 kB\u001b[0m \u001b[31m7.9 MB/s\u001b[0m eta \u001b[36m0:00:00\u001b[0m\n",
      "\u001b[?25hDownloading jsonpath_ng-1.7.0-py3-none-any.whl (30 kB)\n",
      "Downloading ml_dtypes-0.5.1-cp312-cp312-macosx_10_9_universal2.whl (670 kB)\n",
      "\u001b[2K   \u001b[90m━━━━━━━━━━━━━━━━━━━━━━━━━━━━━━━━━━━━━━━━\u001b[0m \u001b[32m670.4/670.4 kB\u001b[0m \u001b[31m28.7 MB/s\u001b[0m eta \u001b[36m0:00:00\u001b[0m\n",
      "\u001b[?25hDownloading python_ulid-3.0.0-py3-none-any.whl (11 kB)\n",
      "Downloading redis-6.2.0-py3-none-any.whl (278 kB)\n",
      "\u001b[2K   \u001b[90m━━━━━━━━━━━━━━━━━━━━━━━━━━━━━━━━━━━━━━━━\u001b[0m \u001b[32m278.7/278.7 kB\u001b[0m \u001b[31m25.9 MB/s\u001b[0m eta \u001b[36m0:00:00\u001b[0m\n",
      "\u001b[?25hInstalling collected packages: redis, python-ulid, ml-dtypes, jsonpath-ng, redisvl, langgraph-checkpoint-redis\n",
      "Successfully installed jsonpath-ng-1.7.0 langgraph-checkpoint-redis-0.0.8 ml-dtypes-0.5.1 python-ulid-3.0.0 redis-6.2.0 redisvl-0.8.0\n",
      "Note: you may need to restart the kernel to use updated packages.\n"
     ]
    }
   ],
   "source": [
    "pip install -U langgraph-checkpoint-redis"
   ]
  },
  {
   "cell_type": "code",
   "execution_count": 3,
   "id": "9fd24f37",
   "metadata": {},
   "outputs": [
    {
     "name": "stdout",
     "output_type": "stream",
     "text": [
      "02:30:45 langgraph.checkpoint.redis INFO   Redis client is a standalone client\n",
      "02:30:45 redisvl.index.index INFO   Index already exists, not overwriting.\n",
      "02:30:45 redisvl.index.index INFO   Index already exists, not overwriting.\n",
      "02:30:45 redisvl.index.index INFO   Index already exists, not overwriting.\n",
      "02:30:45 langchain_aws.chat_models.bedrock_converse INFO   Using Bedrock Converse API to generate response\n",
      "{'chatbot': {'messages': [AIMessage(content=\"I understand. To recap the information you've provided:\\n\\nYour name is Dinesh.\\nYou are a software engineer at Purpose Financial.\\n\\nIs there anything specific you'd like to know or discuss about your role or the company? I'm here to help if you have any questions or need assistance with anything related to your work or other topics.\", additional_kwargs={}, response_metadata={'ResponseMetadata': {'RequestId': 'a28f3019-3112-4f40-ba00-107b13e33438', 'HTTPStatusCode': 200, 'HTTPHeaders': {'date': 'Sun, 29 Jun 2025 06:30:48 GMT', 'content-type': 'application/json', 'content-length': '520', 'connection': 'keep-alive', 'x-amzn-requestid': 'a28f3019-3112-4f40-ba00-107b13e33438'}, 'RetryAttempts': 0}, 'stopReason': 'end_turn', 'metrics': {'latencyMs': [2228]}, 'model_name': 'anthropic.claude-3-5-sonnet-20240620-v1:0'}, id='run--9a1d6f95-582f-4beb-9999-949b9150f578-0', usage_metadata={'input_tokens': 410, 'output_tokens': 74, 'total_tokens': 484, 'input_token_details': {'cache_creation': 0, 'cache_read': 0}})]}} response bfore iterating values\n",
      "{'messages': [AIMessage(content=\"I understand. To recap the information you've provided:\\n\\nYour name is Dinesh.\\nYou are a software engineer at Purpose Financial.\\n\\nIs there anything specific you'd like to know or discuss about your role or the company? I'm here to help if you have any questions or need assistance with anything related to your work or other topics.\", additional_kwargs={}, response_metadata={'ResponseMetadata': {'RequestId': 'a28f3019-3112-4f40-ba00-107b13e33438', 'HTTPStatusCode': 200, 'HTTPHeaders': {'date': 'Sun, 29 Jun 2025 06:30:48 GMT', 'content-type': 'application/json', 'content-length': '520', 'connection': 'keep-alive', 'x-amzn-requestid': 'a28f3019-3112-4f40-ba00-107b13e33438'}, 'RetryAttempts': 0}, 'stopReason': 'end_turn', 'metrics': {'latencyMs': [2228]}, 'model_name': 'anthropic.claude-3-5-sonnet-20240620-v1:0'}, id='run--9a1d6f95-582f-4beb-9999-949b9150f578-0', usage_metadata={'input_tokens': 410, 'output_tokens': 74, 'total_tokens': 484, 'input_token_details': {'cache_creation': 0, 'cache_read': 0}})]}\n",
      "Assistant : I understand. To recap the information you've provided:\n",
      "\n",
      "Your name is Dinesh.\n",
      "You are a software engineer at Purpose Financial.\n",
      "\n",
      "Is there anything specific you'd like to know or discuss about your role or the company? I'm here to help if you have any questions or need assistance with anything related to your work or other topics.02:30:48 langchain_aws.chat_models.bedrock_converse INFO   Using Bedrock Converse API to generate response\n",
      "{'chatbot': {'messages': [AIMessage(content=\"Based on the information you've provided:\\n\\nYour name is Dinesh.\\nYour profession is Software Engineer at Purpose Financial.\", additional_kwargs={}, response_metadata={'ResponseMetadata': {'RequestId': '8ac0b94f-35e1-4cfc-9cf9-2e906a1702c3', 'HTTPStatusCode': 200, 'HTTPHeaders': {'date': 'Sun, 29 Jun 2025 06:30:49 GMT', 'content-type': 'application/json', 'content-length': '308', 'connection': 'keep-alive', 'x-amzn-requestid': '8ac0b94f-35e1-4cfc-9cf9-2e906a1702c3'}, 'RetryAttempts': 0}, 'stopReason': 'end_turn', 'metrics': {'latencyMs': [930]}, 'model_name': 'anthropic.claude-3-5-sonnet-20240620-v1:0'}, id='run--ea1035ef-da50-48ea-af55-df955a8fbe2c-0', usage_metadata={'input_tokens': 498, 'output_tokens': 29, 'total_tokens': 527, 'input_token_details': {'cache_creation': 0, 'cache_read': 0}})]}} response bfore iterating values\n",
      "{'messages': [AIMessage(content=\"Based on the information you've provided:\\n\\nYour name is Dinesh.\\nYour profession is Software Engineer at Purpose Financial.\", additional_kwargs={}, response_metadata={'ResponseMetadata': {'RequestId': '8ac0b94f-35e1-4cfc-9cf9-2e906a1702c3', 'HTTPStatusCode': 200, 'HTTPHeaders': {'date': 'Sun, 29 Jun 2025 06:30:49 GMT', 'content-type': 'application/json', 'content-length': '308', 'connection': 'keep-alive', 'x-amzn-requestid': '8ac0b94f-35e1-4cfc-9cf9-2e906a1702c3'}, 'RetryAttempts': 0}, 'stopReason': 'end_turn', 'metrics': {'latencyMs': [930]}, 'model_name': 'anthropic.claude-3-5-sonnet-20240620-v1:0'}, id='run--ea1035ef-da50-48ea-af55-df955a8fbe2c-0', usage_metadata={'input_tokens': 498, 'output_tokens': 29, 'total_tokens': 527, 'input_token_details': {'cache_creation': 0, 'cache_read': 0}})]}\n",
      "Assistant : Based on the information you've provided:\n",
      "\n",
      "Your name is Dinesh.\n",
      "Your profession is Software Engineer at Purpose Financial.02:30:49 langchain_aws.chat_models.bedrock_converse INFO   Using Bedrock Converse API to generate response\n",
      "{'chatbot': {'messages': [AIMessage(content=\"I apologize, but I don't have any information about who your manager is. You haven't provided that information in our current conversation. If you need to know who your manager is, you would need to check with your company's HR department or your colleagues. Is there anything else I can help you with based on the information we do have?\", additional_kwargs={}, response_metadata={'ResponseMetadata': {'RequestId': '81016f8e-7437-421f-a34f-c921e34476af', 'HTTPStatusCode': 200, 'HTTPHeaders': {'date': 'Sun, 29 Jun 2025 06:30:50 GMT', 'content-type': 'application/json', 'content-length': '522', 'connection': 'keep-alive', 'x-amzn-requestid': '81016f8e-7437-421f-a34f-c921e34476af'}, 'RetryAttempts': 0}, 'stopReason': 'end_turn', 'metrics': {'latencyMs': [1776]}, 'model_name': 'anthropic.claude-3-5-sonnet-20240620-v1:0'}, id='run--a066d9e8-459b-4aed-9ea4-6e88a9584b7a-0', usage_metadata={'input_tokens': 535, 'output_tokens': 73, 'total_tokens': 608, 'input_token_details': {'cache_creation': 0, 'cache_read': 0}})]}} response bfore iterating values\n",
      "{'messages': [AIMessage(content=\"I apologize, but I don't have any information about who your manager is. You haven't provided that information in our current conversation. If you need to know who your manager is, you would need to check with your company's HR department or your colleagues. Is there anything else I can help you with based on the information we do have?\", additional_kwargs={}, response_metadata={'ResponseMetadata': {'RequestId': '81016f8e-7437-421f-a34f-c921e34476af', 'HTTPStatusCode': 200, 'HTTPHeaders': {'date': 'Sun, 29 Jun 2025 06:30:50 GMT', 'content-type': 'application/json', 'content-length': '522', 'connection': 'keep-alive', 'x-amzn-requestid': '81016f8e-7437-421f-a34f-c921e34476af'}, 'RetryAttempts': 0}, 'stopReason': 'end_turn', 'metrics': {'latencyMs': [1776]}, 'model_name': 'anthropic.claude-3-5-sonnet-20240620-v1:0'}, id='run--a066d9e8-459b-4aed-9ea4-6e88a9584b7a-0', usage_metadata={'input_tokens': 535, 'output_tokens': 73, 'total_tokens': 608, 'input_token_details': {'cache_creation': 0, 'cache_read': 0}})]}\n",
      "Assistant : I apologize, but I don't have any information about who your manager is. You haven't provided that information in our current conversation. If you need to know who your manager is, you would need to check with your company's HR department or your colleagues. Is there anything else I can help you with based on the information we do have?"
     ]
    }
   ],
   "source": [
    "from typing import Annotated\n",
    "from typing_extensions import TypedDict\n",
    "from langgraph.graph import START, StateGraph\n",
    "from langgraph.graph.message import add_messages\n",
    "\n",
    "DB_URI = \"redis://localhost:6379\"\n",
    "from langgraph.checkpoint.redis import RedisSaver\n",
    "from langchain.chat_models import init_chat_model\n",
    "\n",
    "class State(TypedDict):\n",
    "    \"\"\"State for the graph.\"\"\"\n",
    "    messages: Annotated[list, add_messages]\n",
    "\n",
    "def chatbot(state: State) -> State:\n",
    "    \"\"\"Chatbot function to handle messages.\"\"\"\n",
    "    # response = model.invoke(state[\"messages\"])\n",
    "    # print(response)\n",
    "    # state[\"messages\"].append(response)\n",
    "    # return state\n",
    "    return {\"messages\": [model.invoke(state[\"messages\"])]}\n",
    "\n",
    "model = init_chat_model(\"anthropic.claude-3-5-sonnet-20240620-v1:0\", model_provider=\"bedrock_converse\")\n",
    "\n",
    "graph_builder = StateGraph(State)\n",
    "graph_builder.add_node(\"chatbot\", chatbot)\n",
    "\n",
    "config = {\n",
    "        \"configurable\": {\n",
    "            # highlight-next-line\n",
    "            \"thread_id\": \"1\"\n",
    "        }\n",
    "    }\n",
    "\n",
    "\n",
    "def stream_graph_responses(user_input: str, config: dict = config) -> None:\n",
    "    \"\"\"Stream responses from the graph.\"\"\"\n",
    "    state = {\"messages\": [{\"role\": \"user\", \"content\": user_input}]}\n",
    "    for response in graph.stream(state, config=config):\n",
    "        print(response,\"response bfore iterating values\")\n",
    "        for value in response.values():\n",
    "            print(value)\n",
    "            print(\"Assistant :\", value[\"messages\"][-1].content,end=\"\")\n",
    "\n",
    "with RedisSaver.from_conn_string(DB_URI) as checkpointer:\n",
    "    checkpointer.setup()\n",
    "    \n",
    "    graph_builder.add_edge(START, \"chatbot\")\n",
    "    graph = graph_builder.compile(checkpointer=checkpointer)\n",
    "\n",
    "    user_input = \"I am a software engineer at purpose financial and my name is Dinesh.\"\n",
    "    stream_graph_responses(user_input, config)\n",
    "\n",
    "    user_input = \"What is my name? Whats my profession?\"\n",
    "    stream_graph_responses(user_input, config)\n",
    "\n",
    "    user_input = \"who is my manager?\"\n",
    "    stream_graph_responses(user_input, config)"
   ]
  },
  {
   "cell_type": "code",
   "execution_count": null,
   "id": "a9ef4ea7",
   "metadata": {},
   "outputs": [],
   "source": []
  }
 ],
 "metadata": {
  "kernelspec": {
   "display_name": "base",
   "language": "python",
   "name": "python3"
  },
  "language_info": {
   "codemirror_mode": {
    "name": "ipython",
    "version": 3
   },
   "file_extension": ".py",
   "mimetype": "text/x-python",
   "name": "python",
   "nbconvert_exporter": "python",
   "pygments_lexer": "ipython3",
   "version": "3.12.4"
  }
 },
 "nbformat": 4,
 "nbformat_minor": 5
}
