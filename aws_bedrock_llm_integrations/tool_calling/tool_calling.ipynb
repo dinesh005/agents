{
 "cells": [
  {
   "cell_type": "code",
   "execution_count": 1,
   "id": "57a912ea",
   "metadata": {},
   "outputs": [],
   "source": [
    "import boto3\n",
    "import json\n",
    "import botocore\n",
    "from IPython.display import display, Markdown\n",
    "import time"
   ]
  },
  {
   "cell_type": "code",
   "execution_count": 4,
   "id": "abd4f162",
   "metadata": {},
   "outputs": [],
   "source": [
    "# Initialize the bedrock client\n",
    "\n",
    "session = boto3.session.Session()\n",
    "region =  session.region_name\n",
    "bedrock = boto3.client(service_name='bedrock-runtime', region_name=region)\n",
    "\n",
    "#defining the different available models\n",
    "\n",
    "MODELS = {\n",
    "  \"Claude 3.7 Sonnet\": \"us.anthropic.claude-3-7-sonnet-20250219-v1:0\",\n",
    "  \"Claude 3.5 Sonnet\": \"us.anthropic.claude-3-5-sonnet-20240620-v1:0\",\n",
    "  \"Claude 3.5 Haiku\": \"us.anthropic.claude-3-5-haiku-20241022-v1:0\",\n",
    "  \"Amazon Nova Pro\": \"us.amazon.nova-pro-v1:0\",\n",
    "  \"Amazon Nova Micro\": \"us.amazon.nova-micro-v1:0\",\n",
    "  \"DeepSeek-R1\": \"us.deepseek.r1-v1:0\",\n",
    "  \"Meta Llama 3.1 70B Instruct\": \"us.meta.llama3-1-70b-instruct-v1:0\"\n",
    "}"
   ]
  },
  {
   "cell_type": "code",
   "execution_count": 17,
   "id": "759b80da",
   "metadata": {},
   "outputs": [],
   "source": [
    "#utility function to display the model response\n",
    "def display_response(response, model_name = None):\n",
    "    if model_name:\n",
    "      display(Markdown(f\"### Response from **{model_name}**:\\n\\n\"))\n",
    "    display(Markdown(response))\n",
    "    print(\"\\n\"+\"-\"*80 + \"\\n\")"
   ]
  },
  {
   "cell_type": "code",
   "execution_count": 26,
   "id": "6ec946ee",
   "metadata": {},
   "outputs": [],
   "source": [
    "def multiply(a, b):\n",
    "    return  { \"result\": a * b }\n",
    "\n",
    "multiply_tool = {\n",
    "    \"tools\": [\n",
    "        {\n",
    "            \"toolSpec\": {\n",
    "                \"name\": \"multiply\",\n",
    "                \"description\": \"Multiplies two numbers\",\n",
    "                \"inputSchema\": {\n",
    "                    \"json\": {\n",
    "                        \"type\": \"object\",\n",
    "                        \"properties\": {\n",
    "                            \"a\": {\n",
    "                                \"type\": \"number\",\n",
    "                                \"description\": \"The first number to multiply\"\n",
    "                            },\n",
    "                            \"b\": {\n",
    "                                \"type\": \"number\",\n",
    "                                \"description\": \"The second number to multiply\"\n",
    "                            }\n",
    "                        },\n",
    "                        \"required\": [\"a\", \"b\"]\n",
    "                    }\n",
    "                }\n",
    "            }\n",
    "        }\n",
    "    ],\n",
    "    \"toolChoice\": {\n",
    "        \"auto\": {}\n",
    "    }\n",
    "}"
   ]
  },
  {
   "cell_type": "code",
   "execution_count": 27,
   "id": "64be77f4",
   "metadata": {},
   "outputs": [],
   "source": [
    "prompt = f\"\"\"\n",
    "What is 3 times 4?\n",
    "\"\"\"\n",
    "\n",
    "converse_request = {\n",
    "  \"messages\": [\n",
    "    {\n",
    "      \"role\": \"user\",\n",
    "      \"content\": [{\"text\": prompt}]\n",
    "    }\n",
    "  ],\n",
    "  \"inferenceConfig\": {\n",
    "    \"temperature\": 0.0,\n",
    "    \"maxTokens\": 500,\n",
    "  }\n",
    "}"
   ]
  },
  {
   "cell_type": "code",
   "execution_count": 28,
   "id": "eefc7ddc",
   "metadata": {},
   "outputs": [
    {
     "name": "stdout",
     "output_type": "stream",
     "text": [
      "{\n",
      "  \"ResponseMetadata\": {\n",
      "    \"RequestId\": \"ea5e25b7-0b3e-41b5-a8d0-1e161b31c5a1\",\n",
      "    \"HTTPStatusCode\": 200,\n",
      "    \"HTTPHeaders\": {\n",
      "      \"date\": \"Thu, 26 Jun 2025 18:09:28 GMT\",\n",
      "      \"content-type\": \"application/json\",\n",
      "      \"content-length\": \"456\",\n",
      "      \"connection\": \"keep-alive\",\n",
      "      \"x-amzn-requestid\": \"ea5e25b7-0b3e-41b5-a8d0-1e161b31c5a1\"\n",
      "    },\n",
      "    \"RetryAttempts\": 0\n",
      "  },\n",
      "  \"output\": {\n",
      "    \"message\": {\n",
      "      \"role\": \"assistant\",\n",
      "      \"content\": [\n",
      "        {\n",
      "          \"text\": \"I can help you calculate 3 times 4 using the multiply function.\"\n",
      "        },\n",
      "        {\n",
      "          \"toolUse\": {\n",
      "            \"toolUseId\": \"tooluse_INWyxROgR2ansZ2DseKkHA\",\n",
      "            \"name\": \"multiply\",\n",
      "            \"input\": {\n",
      "              \"a\": 3,\n",
      "              \"b\": 4\n",
      "            }\n",
      "          }\n",
      "        }\n",
      "      ]\n",
      "    }\n",
      "  },\n",
      "  \"stopReason\": \"tool_use\",\n",
      "  \"usage\": {\n",
      "    \"inputTokens\": 415,\n",
      "    \"outputTokens\": 86,\n",
      "    \"totalTokens\": 501,\n",
      "    \"cacheReadInputTokens\": 0,\n",
      "    \"cacheWriteInputTokens\": 0\n",
      "  },\n",
      "  \"metrics\": {\n",
      "    \"latencyMs\": 3449\n",
      "  }\n",
      "}\n"
     ]
    }
   ],
   "source": [
    "response = bedrock.converse(\n",
    "  modelId=MODELS[\"Claude 3.7 Sonnet\"],\n",
    "  messages=converse_request[\"messages\"],\n",
    "  inferenceConfig=converse_request[\"inferenceConfig\"],\n",
    "  toolConfig=multiply_tool\n",
    ")\n",
    "\n",
    "print(json.dumps(response, indent=2))"
   ]
  },
  {
   "cell_type": "code",
   "execution_count": 29,
   "id": "4ad30fc0",
   "metadata": {},
   "outputs": [
    {
     "name": "stdout",
     "output_type": "stream",
     "text": [
      "{'toolUse': {'toolUseId': 'tooluse_INWyxROgR2ansZ2DseKkHA', 'name': 'multiply', 'input': {'a': 3, 'b': 4}}}\n"
     ]
    }
   ],
   "source": [
    "print(response[\"output\"][\"message\"][\"content\"][1])"
   ]
  },
  {
   "cell_type": "code",
   "execution_count": 30,
   "id": "e900a6e2",
   "metadata": {},
   "outputs": [],
   "source": [
    "def handle_function_call(model_id, converse_request, tool_config):\n",
    "  response = bedrock.converse(\n",
    "    modelId=MODELS[\"Claude 3.7 Sonnet\"],\n",
    "    messages=converse_request[\"messages\"],\n",
    "    inferenceConfig=converse_request[\"inferenceConfig\"],\n",
    "    toolConfig=multiply_tool\n",
    "  )\n",
    "\n",
    "  content_blocks = response[\"output\"][\"message\"][\"content\"]\n",
    "  has_tool_use = any(\"toolUse\" in block for block in content_blocks)\n",
    "  if has_tool_use:\n",
    "    tool_use  = next(block for block in content_blocks if \"toolUse\" in block)\n",
    "    tool_name = tool_use[\"toolUse\"][\"name\"]\n",
    "    tool_input = tool_use[\"toolUse\"][\"input\"]\n",
    "    tool_id = tool_use[\"toolUse\"][\"toolUseId\"]\n",
    "\n",
    "    if tool_name == \"multiply\":\n",
    "      a = int(tool_input[\"a\"])\n",
    "      b = int(tool_input[\"b\"])\n",
    "      result = multiply(a, b)\n",
    "      updated_messages = converse_request[\"messages\"] + [\n",
    "        {\n",
    "          \"role\": \"assistant\",\n",
    "          \"content\": [\n",
    "            {\n",
    "              \"toolUse\": {\n",
    "                \"toolUseId\": tool_id,\n",
    "                \"name\": tool_name,\n",
    "                \"input\": tool_input\n",
    "              }\n",
    "            }\n",
    "          ]\n",
    "        },\n",
    "        {\n",
    "          \"role\": \"user\",\n",
    "          \"content\": [\n",
    "            {\n",
    "              \"toolResult\": {\n",
    "                \"toolUseId\": tool_id,\n",
    "                \"content\": [\n",
    "                  {\n",
    "                    \"json\": result\n",
    "                  }\n",
    "                ],\n",
    "                \"status\": \"success\"\n",
    "              }\n",
    "            }\n",
    "          ]\n",
    "        }\n",
    "      ]\n",
    "      \n",
    "      final_response = bedrock.converse(\n",
    "        modelId=model_id,\n",
    "        messages=updated_messages,\n",
    "        inferenceConfig=converse_request[\"inferenceConfig\"],\n",
    "        toolConfig=tool_config\n",
    "      )\n",
    "\n",
    "      final_text = \"\"\n",
    "      for block in final_response[\"output\"][\"message\"][\"content\"]:\n",
    "          if \"text\" in block:\n",
    "              final_text = block[\"text\"]\n",
    "              break\n",
    "      \n",
    "      return {\n",
    "          \"tool_call\": {\"name\": tool_name, \"input\": tool_input},\n",
    "          \"tool_result\": result,\n",
    "          \"final_response\": final_text\n",
    "      }\n",
    "  else:\n",
    "    final_text = \"\"\n",
    "    for block in response[\"output\"][\"message\"][\"content\"]:\n",
    "        if \"text\" in block:\n",
    "            final_text = block[\"text\"]\n",
    "            break\n",
    "    return {\n",
    "        \"tool_call\": None,\n",
    "        \"tool_result\": None,\n",
    "        \"final_response\": final_text\n",
    "    }\n"
   ]
  },
  {
   "cell_type": "code",
   "execution_count": 31,
   "id": "8fd1d212",
   "metadata": {},
   "outputs": [
    {
     "name": "stdout",
     "output_type": "stream",
     "text": [
      "Tool Call: multiply({'a': 3, 'b': 4})\n",
      "Tool Result: {'result': 12}\n"
     ]
    },
    {
     "data": {
      "text/markdown": [
       "### Response from **Claude 3.7 Sonnet (Function Calling)**:\n",
       "\n"
      ],
      "text/plain": [
       "<IPython.core.display.Markdown object>"
      ]
     },
     "metadata": {},
     "output_type": "display_data"
    },
    {
     "data": {
      "text/markdown": [
       "The result of 3 times 4 is 12."
      ],
      "text/plain": [
       "<IPython.core.display.Markdown object>"
      ]
     },
     "metadata": {},
     "output_type": "display_data"
    },
    {
     "name": "stdout",
     "output_type": "stream",
     "text": [
      "\n",
      "--------------------------------------------------------------------------------\n",
      "\n"
     ]
    }
   ],
   "source": [
    "function_result = handle_function_call(\n",
    "    MODELS[\"Claude 3.7 Sonnet\"], \n",
    "    converse_request,\n",
    "    multiply_tool\n",
    ")\n",
    "\n",
    "# Display the results\n",
    "if \"error\" not in function_result:\n",
    "    if \"tool_call\" in function_result:\n",
    "        print(f\"Tool Call: {function_result['tool_call']['name']}({function_result['tool_call']['input']})\")\n",
    "        print(f\"Tool Result: {function_result['tool_result']}\")\n",
    "    \n",
    "    display_response(function_result[\"final_response\"], \"Claude 3.7 Sonnet (Function Calling)\")\n",
    "else:\n",
    "    print(f\"Error: {function_result['error']}\")"
   ]
  },
  {
   "cell_type": "code",
   "execution_count": null,
   "id": "b92b3542",
   "metadata": {},
   "outputs": [],
   "source": []
  }
 ],
 "metadata": {
  "kernelspec": {
   "display_name": "base",
   "language": "python",
   "name": "python3"
  },
  "language_info": {
   "codemirror_mode": {
    "name": "ipython",
    "version": 3
   },
   "file_extension": ".py",
   "mimetype": "text/x-python",
   "name": "python",
   "nbconvert_exporter": "python",
   "pygments_lexer": "ipython3",
   "version": "3.12.4"
  }
 },
 "nbformat": 4,
 "nbformat_minor": 5
}
